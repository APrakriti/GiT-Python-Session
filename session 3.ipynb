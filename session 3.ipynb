{
 "cells": [
  {
   "cell_type": "code",
   "execution_count": 1,
   "metadata": {
    "collapsed": false
   },
   "outputs": [
    {
     "data": {
      "text/plain": [
       "range(0, 9)"
      ]
     },
     "execution_count": 1,
     "metadata": {},
     "output_type": "execute_result"
    }
   ],
   "source": [
    "range(0,9)"
   ]
  },
  {
   "cell_type": "code",
   "execution_count": 2,
   "metadata": {
    "collapsed": false
   },
   "outputs": [
    {
     "name": "stdout",
     "output_type": "stream",
     "text": [
      "0\n",
      "1\n",
      "2\n",
      "3\n",
      "4\n",
      "5\n",
      "6\n",
      "7\n",
      "8\n"
     ]
    }
   ],
   "source": [
    "for i in range(0,9):\n",
    "    print(i)"
   ]
  },
  {
   "cell_type": "code",
   "execution_count": 4,
   "metadata": {
    "collapsed": false
   },
   "outputs": [
    {
     "data": {
      "text/plain": [
       "[0, 1, 2, 3, 4, 5, 6, 7, 8]"
      ]
     },
     "execution_count": 4,
     "metadata": {},
     "output_type": "execute_result"
    }
   ],
   "source": [
    "list(range(0,9))"
   ]
  },
  {
   "cell_type": "code",
   "execution_count": null,
   "metadata": {
    "collapsed": true
   },
   "outputs": [],
   "source": []
  },
  {
   "cell_type": "code",
   "execution_count": 3,
   "metadata": {
    "collapsed": false
   },
   "outputs": [
    {
     "data": {
      "text/plain": [
       "1"
      ]
     },
     "execution_count": 3,
     "metadata": {},
     "output_type": "execute_result"
    }
   ],
   "source": [
    "int('1')"
   ]
  },
  {
   "cell_type": "code",
   "execution_count": 5,
   "metadata": {
    "collapsed": false
   },
   "outputs": [
    {
     "data": {
      "text/plain": [
       "['b', 'd', 'f', 'h', 'v']"
      ]
     },
     "execution_count": 5,
     "metadata": {},
     "output_type": "execute_result"
    }
   ],
   "source": [
    "list('bdfhv')"
   ]
  },
  {
   "cell_type": "code",
   "execution_count": 6,
   "metadata": {
    "collapsed": false
   },
   "outputs": [
    {
     "data": {
      "text/plain": [
       "('k', 'a', 't', 'h', 'm', 'a', 'n', 'd', 'u')"
      ]
     },
     "execution_count": 6,
     "metadata": {},
     "output_type": "execute_result"
    }
   ],
   "source": [
    "tuple('kathmandu')"
   ]
  },
  {
   "cell_type": "code",
   "execution_count": 83,
   "metadata": {
    "collapsed": false
   },
   "outputs": [
    {
     "ename": "TypeError",
     "evalue": "'list' object is not callable",
     "output_type": "error",
     "traceback": [
      "\u001b[1;31m---------------------------------------------------------------------------\u001b[0m",
      "\u001b[1;31mTypeError\u001b[0m                                 Traceback (most recent call last)",
      "\u001b[1;32m<ipython-input-83-10d713e5a50b>\u001b[0m in \u001b[0;36m<module>\u001b[1;34m()\u001b[0m\n\u001b[1;32m----> 1\u001b[1;33m \u001b[0mlist\u001b[0m\u001b[1;33m(\u001b[0m\u001b[1;33m(\u001b[0m\u001b[1;34m'255'\u001b[0m\u001b[1;33m,\u001b[0m \u001b[1;34m'255'\u001b[0m\u001b[1;33m,\u001b[0m \u001b[1;34m'255'\u001b[0m\u001b[1;33m,\u001b[0m \u001b[1;34m'255'\u001b[0m\u001b[1;33m,\u001b[0m \u001b[1;34m'0'\u001b[0m\u001b[1;33m)\u001b[0m\u001b[1;33m)\u001b[0m\u001b[1;33m\u001b[0m\u001b[0m\n\u001b[0m",
      "\u001b[1;31mTypeError\u001b[0m: 'list' object is not callable"
     ]
    }
   ],
   "source": [
    "list(('255', '255', '255', '255', '0'))"
   ]
  },
  {
   "cell_type": "code",
   "execution_count": null,
   "metadata": {
    "collapsed": true
   },
   "outputs": [],
   "source": []
  },
  {
   "cell_type": "code",
   "execution_count": 8,
   "metadata": {
    "collapsed": false
   },
   "outputs": [
    {
     "data": {
      "text/plain": [
       "('255', '255', '254', '255', '0')"
      ]
     },
     "execution_count": 8,
     "metadata": {},
     "output_type": "execute_result"
    }
   ],
   "source": [
    "tuple(['255', '255', '254', '255', '0'])"
   ]
  },
  {
   "cell_type": "code",
   "execution_count": 9,
   "metadata": {
    "collapsed": false
   },
   "outputs": [
    {
     "data": {
      "text/plain": [
       "('abc',)"
      ]
     },
     "execution_count": 9,
     "metadata": {},
     "output_type": "execute_result"
    }
   ],
   "source": [
    "tuple({'abc': 123})"
   ]
  },
  {
   "cell_type": "code",
   "execution_count": 11,
   "metadata": {
    "collapsed": false
   },
   "outputs": [
    {
     "data": {
      "text/plain": [
       "['abc']"
      ]
     },
     "execution_count": 11,
     "metadata": {},
     "output_type": "execute_result"
    }
   ],
   "source": [
    "list({'abc':123})"
   ]
  },
  {
   "cell_type": "code",
   "execution_count": 12,
   "metadata": {
    "collapsed": false
   },
   "outputs": [
    {
     "data": {
      "text/plain": [
       "{'name': 'hari'}"
      ]
     },
     "execution_count": 12,
     "metadata": {},
     "output_type": "execute_result"
    }
   ],
   "source": [
    "dict([('name', 'hari')])"
   ]
  },
  {
   "cell_type": "code",
   "execution_count": null,
   "metadata": {
    "collapsed": true
   },
   "outputs": [],
   "source": []
  },
  {
   "cell_type": "markdown",
   "metadata": {},
   "source": [
    "list comprehension"
   ]
  },
  {
   "cell_type": "code",
   "execution_count": 72,
   "metadata": {
    "collapsed": true
   },
   "outputs": [],
   "source": [
    "lists= []\n",
    "for i in range(0, 100):\n",
    "    if i% 5 == 0:\n",
    "        lists.append(i ** 2)\n"
   ]
  },
  {
   "cell_type": "code",
   "execution_count": 77,
   "metadata": {
    "collapsed": false
   },
   "outputs": [
    {
     "data": {
      "text/plain": [
       "[0,\n",
       " 25,\n",
       " 100,\n",
       " 225,\n",
       " 400,\n",
       " 625,\n",
       " 900,\n",
       " 1225,\n",
       " 1600,\n",
       " 2025,\n",
       " 2500,\n",
       " 3025,\n",
       " 3600,\n",
       " 4225,\n",
       " 4900,\n",
       " 5625,\n",
       " 6400,\n",
       " 7225,\n",
       " 8100,\n",
       " 9025]"
      ]
     },
     "execution_count": 77,
     "metadata": {},
     "output_type": "execute_result"
    }
   ],
   "source": [
    "lists"
   ]
  },
  {
   "cell_type": "code",
   "execution_count": 15,
   "metadata": {
    "collapsed": false
   },
   "outputs": [
    {
     "data": {
      "text/plain": [
       "[0, 25, 100, 225, 400, 625, 900, 1225, 1600, 2025]"
      ]
     },
     "execution_count": 15,
     "metadata": {},
     "output_type": "execute_result"
    }
   ],
   "source": [
    "[i ** 2 for i in range(0,50) if i % 5 == 0]"
   ]
  },
  {
   "cell_type": "code",
   "execution_count": 74,
   "metadata": {
    "collapsed": true
   },
   "outputs": [],
   "source": [
    "lst=[i ** 2 if i %2==0 else i for  i in range(0,9)]"
   ]
  },
  {
   "cell_type": "code",
   "execution_count": 75,
   "metadata": {
    "collapsed": false
   },
   "outputs": [
    {
     "data": {
      "text/plain": [
       "[0, 1, 4, 3, 16, 5, 36, 7, 64]"
      ]
     },
     "execution_count": 75,
     "metadata": {},
     "output_type": "execute_result"
    }
   ],
   "source": [
    "lst"
   ]
  },
  {
   "cell_type": "code",
   "execution_count": 18,
   "metadata": {
    "collapsed": false
   },
   "outputs": [
    {
     "data": {
      "text/plain": [
       "4"
      ]
     },
     "execution_count": 18,
     "metadata": {},
     "output_type": "execute_result"
    }
   ],
   "source": [
    "i=2\n",
    "i ** 2 if i %2==0 else i"
   ]
  },
  {
   "cell_type": "code",
   "execution_count": 21,
   "metadata": {
    "collapsed": false
   },
   "outputs": [
    {
     "data": {
      "text/plain": [
       "3"
      ]
     },
     "execution_count": 21,
     "metadata": {},
     "output_type": "execute_result"
    }
   ],
   "source": [
    "i = 3\n",
    "i ** 2 if i %2 == 0 else i"
   ]
  },
  {
   "cell_type": "code",
   "execution_count": 22,
   "metadata": {
    "collapsed": false
   },
   "outputs": [
    {
     "data": {
      "text/plain": [
       "{0, 2, 3, 4, 6, 8, 9, 10, 12, 14}"
      ]
     },
     "execution_count": 22,
     "metadata": {},
     "output_type": "execute_result"
    }
   ],
   "source": [
    "{i for  i in range(0, 15)if  i% 2== 0 or i% 3== 0}"
   ]
  },
  {
   "cell_type": "code",
   "execution_count": 23,
   "metadata": {
    "collapsed": false
   },
   "outputs": [
    {
     "data": {
      "text/plain": [
       "{0: 0, 2: 4, 3: 9, 4: 16, 6: 36, 8: 64, 9: 81, 10: 100, 12: 144, 14: 196}"
      ]
     },
     "execution_count": 23,
     "metadata": {},
     "output_type": "execute_result"
    }
   ],
   "source": [
    "{i:i** 2 for i in range(0, 15) if i%2==0 or i%3== 0}"
   ]
  },
  {
   "cell_type": "code",
   "execution_count": 1,
   "metadata": {
    "collapsed": false
   },
   "outputs": [],
   "source": [
    "fp= open('untitled.txt', 'r')"
   ]
  },
  {
   "cell_type": "code",
   "execution_count": 26,
   "metadata": {
    "collapsed": false
   },
   "outputs": [
    {
     "data": {
      "text/plain": [
       "<_io.TextIOWrapper name='untitled.txt' mode='r' encoding='cp1252'>"
      ]
     },
     "execution_count": 26,
     "metadata": {},
     "output_type": "execute_result"
    }
   ],
   "source": [
    "fp"
   ]
  },
  {
   "cell_type": "code",
   "execution_count": 27,
   "metadata": {
    "collapsed": false
   },
   "outputs": [
    {
     "data": {
      "text/plain": [
       "'name, address, phone no\\nprakriti,sjjfhsd,5644738'"
      ]
     },
     "execution_count": 27,
     "metadata": {},
     "output_type": "execute_result"
    }
   ],
   "source": [
    "fp.read()"
   ]
  },
  {
   "cell_type": "code",
   "execution_count": 29,
   "metadata": {
    "collapsed": false
   },
   "outputs": [
    {
     "data": {
      "text/plain": [
       "[]"
      ]
     },
     "execution_count": 29,
     "metadata": {},
     "output_type": "execute_result"
    }
   ],
   "source": [
    "fp.readlines()"
   ]
  },
  {
   "cell_type": "code",
   "execution_count": 30,
   "metadata": {
    "collapsed": false
   },
   "outputs": [
    {
     "data": {
      "text/plain": [
       "0"
      ]
     },
     "execution_count": 30,
     "metadata": {},
     "output_type": "execute_result"
    }
   ],
   "source": [
    "fp.seek(0)"
   ]
  },
  {
   "cell_type": "code",
   "execution_count": 31,
   "metadata": {
    "collapsed": false
   },
   "outputs": [
    {
     "data": {
      "text/plain": [
       "'name, address, phone no\\nprakriti,sjjfhsd,5644738'"
      ]
     },
     "execution_count": 31,
     "metadata": {},
     "output_type": "execute_result"
    }
   ],
   "source": [
    "fp.read()"
   ]
  },
  {
   "cell_type": "code",
   "execution_count": 32,
   "metadata": {
    "collapsed": false
   },
   "outputs": [
    {
     "data": {
      "text/plain": [
       "0"
      ]
     },
     "execution_count": 32,
     "metadata": {},
     "output_type": "execute_result"
    }
   ],
   "source": [
    "fp.seek(0)"
   ]
  },
  {
   "cell_type": "code",
   "execution_count": 33,
   "metadata": {
    "collapsed": false
   },
   "outputs": [
    {
     "data": {
      "text/plain": [
       "['name, address, phone no\\n', 'prakriti,sjjfhsd,5644738']"
      ]
     },
     "execution_count": 33,
     "metadata": {},
     "output_type": "execute_result"
    }
   ],
   "source": [
    "fp.readlines()"
   ]
  },
  {
   "cell_type": "code",
   "execution_count": 34,
   "metadata": {
    "collapsed": false
   },
   "outputs": [
    {
     "data": {
      "text/plain": [
       "''"
      ]
     },
     "execution_count": 34,
     "metadata": {},
     "output_type": "execute_result"
    }
   ],
   "source": [
    "fp.readline()"
   ]
  },
  {
   "cell_type": "code",
   "execution_count": 35,
   "metadata": {
    "collapsed": false
   },
   "outputs": [
    {
     "data": {
      "text/plain": [
       "0"
      ]
     },
     "execution_count": 35,
     "metadata": {},
     "output_type": "execute_result"
    }
   ],
   "source": [
    "fp.seek(0)"
   ]
  },
  {
   "cell_type": "code",
   "execution_count": 36,
   "metadata": {
    "collapsed": false
   },
   "outputs": [
    {
     "data": {
      "text/plain": [
       "'name, address, phone no\\n'"
      ]
     },
     "execution_count": 36,
     "metadata": {},
     "output_type": "execute_result"
    }
   ],
   "source": [
    "fp.readline()"
   ]
  },
  {
   "cell_type": "code",
   "execution_count": 45,
   "metadata": {
    "collapsed": true
   },
   "outputs": [],
   "source": [
    "line= fp.readline()"
   ]
  },
  {
   "cell_type": "code",
   "execution_count": 38,
   "metadata": {
    "collapsed": false
   },
   "outputs": [
    {
     "data": {
      "text/plain": [
       "'prakriti,sjjfhsd,5644738'"
      ]
     },
     "execution_count": 38,
     "metadata": {},
     "output_type": "execute_result"
    }
   ],
   "source": [
    "line"
   ]
  },
  {
   "cell_type": "code",
   "execution_count": 39,
   "metadata": {
    "collapsed": false
   },
   "outputs": [
    {
     "data": {
      "text/plain": [
       "'C:\\\\Users\\\\aprakriti\\\\Documents'"
      ]
     },
     "execution_count": 39,
     "metadata": {},
     "output_type": "execute_result"
    }
   ],
   "source": [
    "import os\n",
    "os.getcwd()"
   ]
  },
  {
   "cell_type": "code",
   "execution_count": 13,
   "metadata": {
    "collapsed": false
   },
   "outputs": [
    {
     "data": {
      "text/plain": [
       "0"
      ]
     },
     "execution_count": 13,
     "metadata": {},
     "output_type": "execute_result"
    }
   ],
   "source": [
    "fp.seek(0)"
   ]
  },
  {
   "cell_type": "code",
   "execution_count": 46,
   "metadata": {
    "collapsed": true
   },
   "outputs": [],
   "source": [
    "line=line.strip()"
   ]
  },
  {
   "cell_type": "code",
   "execution_count": 47,
   "metadata": {
    "collapsed": false
   },
   "outputs": [
    {
     "data": {
      "text/plain": [
       "'name, address, phone no'"
      ]
     },
     "execution_count": 47,
     "metadata": {},
     "output_type": "execute_result"
    }
   ],
   "source": [
    "line"
   ]
  },
  {
   "cell_type": "code",
   "execution_count": 2,
   "metadata": {
    "collapsed": true
   },
   "outputs": [],
   "source": [
    "import csv "
   ]
  },
  {
   "cell_type": "code",
   "execution_count": 49,
   "metadata": {
    "collapsed": false
   },
   "outputs": [
    {
     "data": {
      "text/plain": [
       "0"
      ]
     },
     "execution_count": 49,
     "metadata": {},
     "output_type": "execute_result"
    }
   ],
   "source": [
    "fp.seek(0)"
   ]
  },
  {
   "cell_type": "code",
   "execution_count": 50,
   "metadata": {
    "collapsed": false
   },
   "outputs": [
    {
     "data": {
      "text/plain": [
       "['Dialect',\n",
       " 'DictReader',\n",
       " 'DictWriter',\n",
       " 'Error',\n",
       " 'QUOTE_ALL',\n",
       " 'QUOTE_MINIMAL',\n",
       " 'QUOTE_NONE',\n",
       " 'QUOTE_NONNUMERIC',\n",
       " 'Sniffer',\n",
       " 'StringIO',\n",
       " '_Dialect',\n",
       " '__all__',\n",
       " '__builtins__',\n",
       " '__cached__',\n",
       " '__doc__',\n",
       " '__file__',\n",
       " '__loader__',\n",
       " '__name__',\n",
       " '__package__',\n",
       " '__spec__',\n",
       " '__version__',\n",
       " 'excel',\n",
       " 'excel_tab',\n",
       " 'field_size_limit',\n",
       " 'get_dialect',\n",
       " 'list_dialects',\n",
       " 're',\n",
       " 'reader',\n",
       " 'register_dialect',\n",
       " 'unix_dialect',\n",
       " 'unregister_dialect',\n",
       " 'writer']"
      ]
     },
     "execution_count": 50,
     "metadata": {},
     "output_type": "execute_result"
    }
   ],
   "source": [
    "dir(csv)"
   ]
  },
  {
   "cell_type": "code",
   "execution_count": 57,
   "metadata": {
    "collapsed": false
   },
   "outputs": [],
   "source": [
    "headers=\"name, address, phone no\\n\""
   ]
  },
  {
   "cell_type": "code",
   "execution_count": 58,
   "metadata": {
    "collapsed": false
   },
   "outputs": [],
   "source": [
    "headers= headers.strip().split(',')"
   ]
  },
  {
   "cell_type": "code",
   "execution_count": 59,
   "metadata": {
    "collapsed": false
   },
   "outputs": [
    {
     "data": {
      "text/plain": [
       "['name', ' address', ' phone no']"
      ]
     },
     "execution_count": 59,
     "metadata": {},
     "output_type": "execute_result"
    }
   ],
   "source": [
    "headers"
   ]
  },
  {
   "cell_type": "code",
   "execution_count": 61,
   "metadata": {
    "collapsed": false
   },
   "outputs": [],
   "source": [
    "f=csv.reader(fp)"
   ]
  },
  {
   "cell_type": "code",
   "execution_count": 62,
   "metadata": {
    "collapsed": false
   },
   "outputs": [
    {
     "data": {
      "text/plain": [
       "['__class__',\n",
       " '__delattr__',\n",
       " '__dir__',\n",
       " '__doc__',\n",
       " '__eq__',\n",
       " '__format__',\n",
       " '__ge__',\n",
       " '__getattribute__',\n",
       " '__gt__',\n",
       " '__hash__',\n",
       " '__init__',\n",
       " '__iter__',\n",
       " '__le__',\n",
       " '__lt__',\n",
       " '__ne__',\n",
       " '__new__',\n",
       " '__next__',\n",
       " '__reduce__',\n",
       " '__reduce_ex__',\n",
       " '__repr__',\n",
       " '__setattr__',\n",
       " '__sizeof__',\n",
       " '__str__',\n",
       " '__subclasshook__',\n",
       " 'dialect',\n",
       " 'line_num']"
      ]
     },
     "execution_count": 62,
     "metadata": {},
     "output_type": "execute_result"
    }
   ],
   "source": [
    "dir(f)"
   ]
  },
  {
   "cell_type": "code",
   "execution_count": 63,
   "metadata": {
    "collapsed": false
   },
   "outputs": [
    {
     "data": {
      "text/plain": [
       "<_csv.reader at 0xd0cc10fa70>"
      ]
     },
     "execution_count": 63,
     "metadata": {},
     "output_type": "execute_result"
    }
   ],
   "source": [
    "csv.reader(fp)"
   ]
  },
  {
   "cell_type": "code",
   "execution_count": 14,
   "metadata": {
    "collapsed": true
   },
   "outputs": [],
   "source": [
    "reader=csv.DictReader(fp)"
   ]
  },
  {
   "cell_type": "code",
   "execution_count": 65,
   "metadata": {
    "collapsed": false
   },
   "outputs": [
    {
     "data": {
      "text/plain": [
       "['__class__',\n",
       " '__delattr__',\n",
       " '__dict__',\n",
       " '__dir__',\n",
       " '__doc__',\n",
       " '__eq__',\n",
       " '__format__',\n",
       " '__ge__',\n",
       " '__getattribute__',\n",
       " '__gt__',\n",
       " '__hash__',\n",
       " '__init__',\n",
       " '__iter__',\n",
       " '__le__',\n",
       " '__lt__',\n",
       " '__module__',\n",
       " '__ne__',\n",
       " '__new__',\n",
       " '__next__',\n",
       " '__reduce__',\n",
       " '__reduce_ex__',\n",
       " '__repr__',\n",
       " '__setattr__',\n",
       " '__sizeof__',\n",
       " '__str__',\n",
       " '__subclasshook__',\n",
       " '__weakref__',\n",
       " '_fieldnames',\n",
       " 'dialect',\n",
       " 'fieldnames',\n",
       " 'line_num',\n",
       " 'reader',\n",
       " 'restkey',\n",
       " 'restval']"
      ]
     },
     "execution_count": 65,
     "metadata": {},
     "output_type": "execute_result"
    }
   ],
   "source": [
    "dir(reader)"
   ]
  },
  {
   "cell_type": "code",
   "execution_count": 4,
   "metadata": {
    "collapsed": false
   },
   "outputs": [
    {
     "data": {
      "text/plain": [
       "['name', ' address', ' phone no']"
      ]
     },
     "execution_count": 4,
     "metadata": {},
     "output_type": "execute_result"
    }
   ],
   "source": [
    "reader.fieldnames"
   ]
  },
  {
   "cell_type": "code",
   "execution_count": 11,
   "metadata": {
    "collapsed": false
   },
   "outputs": [],
   "source": [
    "name= list(reader)"
   ]
  },
  {
   "cell_type": "code",
   "execution_count": 12,
   "metadata": {
    "collapsed": false
   },
   "outputs": [
    {
     "data": {
      "text/plain": [
       "[]"
      ]
     },
     "execution_count": 12,
     "metadata": {},
     "output_type": "execute_result"
    }
   ],
   "source": [
    "name"
   ]
  },
  {
   "cell_type": "code",
   "execution_count": 16,
   "metadata": {
    "collapsed": false
   },
   "outputs": [
    {
     "data": {
      "text/plain": [
       "<csv.DictReader at 0x950fd70160>"
      ]
     },
     "execution_count": 16,
     "metadata": {},
     "output_type": "execute_result"
    }
   ],
   "source": [
    "reader"
   ]
  },
  {
   "cell_type": "code",
   "execution_count": 18,
   "metadata": {
    "collapsed": false
   },
   "outputs": [
    {
     "data": {
      "text/plain": [
       "['name', ' address', ' phone no']"
      ]
     },
     "execution_count": 18,
     "metadata": {},
     "output_type": "execute_result"
    }
   ],
   "source": [
    "reader.fieldnames"
   ]
  },
  {
   "cell_type": "code",
   "execution_count": 21,
   "metadata": {
    "collapsed": false
   },
   "outputs": [],
   "source": [
    "fp=open(\"countrycodes.csv\",'r')"
   ]
  },
  {
   "cell_type": "code",
   "execution_count": 22,
   "metadata": {
    "collapsed": true
   },
   "outputs": [],
   "source": [
    "import csv"
   ]
  },
  {
   "cell_type": "code",
   "execution_count": 24,
   "metadata": {
    "collapsed": false
   },
   "outputs": [],
   "source": [
    "reader = csv.DictReader(fp)"
   ]
  },
  {
   "cell_type": "code",
   "execution_count": 25,
   "metadata": {
    "collapsed": false
   },
   "outputs": [
    {
     "data": {
      "text/plain": [
       "['euname',\n",
       " 'modified',\n",
       " 'linked_country',\n",
       " 'iso3',\n",
       " 'iso2',\n",
       " 'grc',\n",
       " 'isonum',\n",
       " 'country',\n",
       " 'imperitive']"
      ]
     },
     "execution_count": 25,
     "metadata": {},
     "output_type": "execute_result"
    }
   ],
   "source": [
    "reader.fieldnames"
   ]
  },
  {
   "cell_type": "code",
   "execution_count": 26,
   "metadata": {
    "collapsed": true
   },
   "outputs": [],
   "source": [
    "lst = list(reader)"
   ]
  },
  {
   "cell_type": "code",
   "execution_count": 27,
   "metadata": {
    "collapsed": true
   },
   "outputs": [],
   "source": [
    "country= []"
   ]
  },
  {
   "cell_type": "code",
   "execution_count": 28,
   "metadata": {
    "collapsed": false
   },
   "outputs": [
    {
     "data": {
      "text/plain": [
       "[{'country': 'Abkhazia',\n",
       "  'euname': '',\n",
       "  'grc': 'ABK',\n",
       "  'imperitive': 'De Facto; Currency',\n",
       "  'iso2': '',\n",
       "  'iso3': '',\n",
       "  'isonum': '',\n",
       "  'linked_country': 'Georgia',\n",
       "  'modified': ''},\n",
       " {'country': 'Afganistan',\n",
       "  'euname': 'AFGHANISTAN',\n",
       "  'grc': 'AFG',\n",
       "  'imperitive': '',\n",
       "  'iso2': 'AF',\n",
       "  'iso3': 'AFG',\n",
       "  'isonum': '004',\n",
       "  'linked_country': '',\n",
       "  'modified': ''},\n",
       " {'country': 'Ã…land Islands',\n",
       "  'euname': '',\n",
       "  'grc': 'ALA',\n",
       "  'imperitive': 'Postal',\n",
       "  'iso2': 'AX',\n",
       "  'iso3': 'ALA',\n",
       "  'isonum': '248',\n",
       "  'linked_country': 'Finland',\n",
       "  'modified': 'Added 26th October 2010'},\n",
       " {'country': 'Albania',\n",
       "  'euname': 'Albania',\n",
       "  'grc': 'ALB',\n",
       "  'imperitive': '',\n",
       "  'iso2': 'AL',\n",
       "  'iso3': 'ALB',\n",
       "  'isonum': '008',\n",
       "  'linked_country': '',\n",
       "  'modified': ''},\n",
       " {'country': 'Algeria',\n",
       "  'euname': 'ALGERIA',\n",
       "  'grc': 'ALG',\n",
       "  'imperitive': '',\n",
       "  'iso2': 'DZ',\n",
       "  'iso3': 'DZA',\n",
       "  'isonum': '012',\n",
       "  'linked_country': '',\n",
       "  'modified': ''},\n",
       " {'country': 'American Samoa',\n",
       "  'euname': '',\n",
       "  'grc': 'AMS',\n",
       "  'imperitive': 'Geographical',\n",
       "  'iso2': 'AS',\n",
       "  'iso3': 'ASM',\n",
       "  'isonum': '016',\n",
       "  'linked_country': 'United States of America',\n",
       "  'modified': ''},\n",
       " {'country': 'Andorra',\n",
       "  'euname': 'ANDORRA',\n",
       "  'grc': 'AND',\n",
       "  'imperitive': '',\n",
       "  'iso2': 'AD',\n",
       "  'iso3': 'AND',\n",
       "  'isonum': '020',\n",
       "  'linked_country': '',\n",
       "  'modified': ''},\n",
       " {'country': 'Angola',\n",
       "  'euname': 'ANGOLA',\n",
       "  'grc': 'ANG',\n",
       "  'imperitive': '',\n",
       "  'iso2': 'AO',\n",
       "  'iso3': 'AGO',\n",
       "  'isonum': '024',\n",
       "  'linked_country': '',\n",
       "  'modified': ''},\n",
       " {'country': 'Anguilla',\n",
       "  'euname': '',\n",
       "  'grc': 'ANU',\n",
       "  'imperitive': 'Geographical; Postal; Currency; Telephone',\n",
       "  'iso2': 'AI',\n",
       "  'iso3': 'AIA',\n",
       "  'isonum': '660',\n",
       "  'linked_country': 'United Kingdom',\n",
       "  'modified': ''},\n",
       " {'country': 'Antigua & Barbuda',\n",
       "  'euname': 'ANTIGUA AND BARBUDA',\n",
       "  'grc': 'ANT',\n",
       "  'imperitive': '',\n",
       "  'iso2': 'AG',\n",
       "  'iso3': 'ATG',\n",
       "  'isonum': '028',\n",
       "  'linked_country': '',\n",
       "  'modified': ''},\n",
       " {'country': 'Argentina',\n",
       "  'euname': 'Argentina',\n",
       "  'grc': 'ARG',\n",
       "  'imperitive': '',\n",
       "  'iso2': 'AR',\n",
       "  'iso3': 'ARG',\n",
       "  'isonum': '032',\n",
       "  'linked_country': '',\n",
       "  'modified': ''},\n",
       " {'country': 'Armenia',\n",
       "  'euname': 'Armenia',\n",
       "  'grc': 'ARM',\n",
       "  'imperitive': '',\n",
       "  'iso2': 'AM',\n",
       "  'iso3': 'ARM',\n",
       "  'isonum': '051',\n",
       "  'linked_country': '',\n",
       "  'modified': ''},\n",
       " {'country': 'Aruba',\n",
       "  'euname': 'ARUBA',\n",
       "  'grc': 'ARU',\n",
       "  'imperitive': 'Geographical; Postal; Currency; Telephone',\n",
       "  'iso2': 'AW',\n",
       "  'iso3': 'ABW',\n",
       "  'isonum': '533',\n",
       "  'linked_country': 'Netherlands',\n",
       "  'modified': ''},\n",
       " {'country': 'Australia',\n",
       "  'euname': 'Australia',\n",
       "  'grc': 'AST',\n",
       "  'imperitive': '',\n",
       "  'iso2': 'AU',\n",
       "  'iso3': 'AUS',\n",
       "  'isonum': '036',\n",
       "  'linked_country': '',\n",
       "  'modified': ''},\n",
       " {'country': 'Austria',\n",
       "  'euname': 'Austria',\n",
       "  'grc': 'AUS',\n",
       "  'imperitive': '',\n",
       "  'iso2': 'AT',\n",
       "  'iso3': 'AUT',\n",
       "  'isonum': '040',\n",
       "  'linked_country': '',\n",
       "  'modified': ''},\n",
       " {'country': 'Azerbaijan',\n",
       "  'euname': 'AZERBAIJAN',\n",
       "  'grc': 'AZE',\n",
       "  'imperitive': '',\n",
       "  'iso2': 'AZ',\n",
       "  'iso3': 'AZE',\n",
       "  'isonum': '031',\n",
       "  'linked_country': '',\n",
       "  'modified': ''},\n",
       " {'country': 'Bahamas',\n",
       "  'euname': 'BAHAMAS',\n",
       "  'grc': 'BAH',\n",
       "  'imperitive': '',\n",
       "  'iso2': 'BS',\n",
       "  'iso3': 'BHS',\n",
       "  'isonum': '044',\n",
       "  'linked_country': '',\n",
       "  'modified': ''},\n",
       " {'country': 'Bahrain',\n",
       "  'euname': 'BAHRAIN',\n",
       "  'grc': 'BAR',\n",
       "  'imperitive': '',\n",
       "  'iso2': 'BH',\n",
       "  'iso3': 'BHR',\n",
       "  'isonum': '048',\n",
       "  'linked_country': '',\n",
       "  'modified': ''},\n",
       " {'country': 'Bangladesh',\n",
       "  'euname': 'BANGLADESH',\n",
       "  'grc': 'BAN',\n",
       "  'imperitive': '',\n",
       "  'iso2': 'BD',\n",
       "  'iso3': 'BGD',\n",
       "  'isonum': '050',\n",
       "  'linked_country': '',\n",
       "  'modified': ''},\n",
       " {'country': 'Barbados',\n",
       "  'euname': 'Barbados',\n",
       "  'grc': 'BAB',\n",
       "  'imperitive': '',\n",
       "  'iso2': 'BB',\n",
       "  'iso3': 'BRB',\n",
       "  'isonum': '052',\n",
       "  'linked_country': '',\n",
       "  'modified': ''},\n",
       " {'country': 'Belarus',\n",
       "  'euname': 'BELARUS',\n",
       "  'grc': 'BEO',\n",
       "  'imperitive': '',\n",
       "  'iso2': 'BY',\n",
       "  'iso3': 'BLR',\n",
       "  'isonum': '112',\n",
       "  'linked_country': '',\n",
       "  'modified': ''},\n",
       " {'country': 'Belgium',\n",
       "  'euname': 'Belgium',\n",
       "  'grc': 'BEL',\n",
       "  'imperitive': '',\n",
       "  'iso2': 'BE',\n",
       "  'iso3': 'BEL',\n",
       "  'isonum': '056',\n",
       "  'linked_country': '',\n",
       "  'modified': ''},\n",
       " {'country': 'Belize',\n",
       "  'euname': 'BELIZE',\n",
       "  'grc': 'BEI',\n",
       "  'imperitive': '',\n",
       "  'iso2': 'BZ',\n",
       "  'iso3': 'BLZ',\n",
       "  'isonum': '084',\n",
       "  'linked_country': '',\n",
       "  'modified': ''},\n",
       " {'country': 'Benin',\n",
       "  'euname': 'Benin',\n",
       "  'grc': 'BEN',\n",
       "  'imperitive': '',\n",
       "  'iso2': 'BJ',\n",
       "  'iso3': 'BEN',\n",
       "  'isonum': '204',\n",
       "  'linked_country': '',\n",
       "  'modified': ''},\n",
       " {'country': 'Bermuda',\n",
       "  'euname': '',\n",
       "  'grc': 'BER',\n",
       "  'imperitive': 'Geographical; Postal; Currency; Telephone',\n",
       "  'iso2': 'BM',\n",
       "  'iso3': 'BMU',\n",
       "  'isonum': '060',\n",
       "  'linked_country': 'United Kingdom',\n",
       "  'modified': ''},\n",
       " {'country': 'Bhutan',\n",
       "  'euname': 'BHUTAN',\n",
       "  'grc': 'BHU',\n",
       "  'imperitive': '',\n",
       "  'iso2': 'BT',\n",
       "  'iso3': 'BTN',\n",
       "  'isonum': '064',\n",
       "  'linked_country': '',\n",
       "  'modified': ''},\n",
       " {'country': 'Bolivia',\n",
       "  'euname': 'BOLIVIA',\n",
       "  'grc': 'BOL',\n",
       "  'imperitive': '',\n",
       "  'iso2': 'BO',\n",
       "  'iso3': 'BOL',\n",
       "  'isonum': '068',\n",
       "  'linked_country': '',\n",
       "  'modified': ''},\n",
       " {'country': 'Bonaire',\n",
       "  'euname': '',\n",
       "  'grc': 'BON',\n",
       "  'imperitive': 'Geographical; Postal; Currency; Telephone',\n",
       "  'iso2': 'BQ',\n",
       "  'iso3': 'BES',\n",
       "  'isonum': '535',\n",
       "  'linked_country': 'Netherlands',\n",
       "  'modified': 'ISO codes added 28th Dec. 2010'},\n",
       " {'country': 'Bosnia-Herzegovina',\n",
       "  'euname': 'Bosnia-Herzegovina',\n",
       "  'grc': 'BOS',\n",
       "  'imperitive': '',\n",
       "  'iso2': 'BA',\n",
       "  'iso3': 'BIH',\n",
       "  'isonum': '070',\n",
       "  'linked_country': '',\n",
       "  'modified': ''},\n",
       " {'country': 'Botswana',\n",
       "  'euname': 'BOTSWANA',\n",
       "  'grc': 'BOT',\n",
       "  'imperitive': '',\n",
       "  'iso2': 'BW',\n",
       "  'iso3': 'BWA',\n",
       "  'isonum': '072',\n",
       "  'linked_country': '',\n",
       "  'modified': ''},\n",
       " {'country': 'Brazil',\n",
       "  'euname': 'Brazil',\n",
       "  'grc': 'BRA',\n",
       "  'imperitive': '',\n",
       "  'iso2': 'BR',\n",
       "  'iso3': 'BRA',\n",
       "  'isonum': '076',\n",
       "  'linked_country': '',\n",
       "  'modified': ''},\n",
       " {'country': 'British Indian Ocean Territory',\n",
       "  'euname': '',\n",
       "  'grc': 'BIO',\n",
       "  'imperitive': 'Geographical; Postal; Telephone',\n",
       "  'iso2': 'IO',\n",
       "  'iso3': 'IOT',\n",
       "  'isonum': '086',\n",
       "  'linked_country': 'United Kingdom, United States of America',\n",
       "  'modified': ''},\n",
       " {'country': 'British Virgin Islands',\n",
       "  'euname': 'British Virgin Islands',\n",
       "  'grc': 'BVI',\n",
       "  'imperitive': 'Geographical; Postal; Currency; Telephone',\n",
       "  'iso2': 'VG',\n",
       "  'iso3': 'VGB',\n",
       "  'isonum': '092',\n",
       "  'linked_country': 'United Kingdom',\n",
       "  'modified': ''},\n",
       " {'country': 'Brunei Darussalam',\n",
       "  'euname': 'BRUNEI',\n",
       "  'grc': 'BRU',\n",
       "  'imperitive': '',\n",
       "  'iso2': 'BN',\n",
       "  'iso3': 'BRN',\n",
       "  'isonum': '096',\n",
       "  'linked_country': '',\n",
       "  'modified': ''},\n",
       " {'country': 'Bulgaria',\n",
       "  'euname': 'Bulgaria',\n",
       "  'grc': 'BUL',\n",
       "  'imperitive': '',\n",
       "  'iso2': 'BG',\n",
       "  'iso3': 'BGR',\n",
       "  'isonum': '100',\n",
       "  'linked_country': '',\n",
       "  'modified': ''},\n",
       " {'country': 'Burkina Faso',\n",
       "  'euname': 'BURKINA FASO',\n",
       "  'grc': 'BUK',\n",
       "  'imperitive': '',\n",
       "  'iso2': 'BF',\n",
       "  'iso3': 'BFA',\n",
       "  'isonum': '854',\n",
       "  'linked_country': '',\n",
       "  'modified': ''},\n",
       " {'country': 'Burundi',\n",
       "  'euname': 'BURUNDI',\n",
       "  'grc': 'BUU',\n",
       "  'imperitive': '',\n",
       "  'iso2': 'BI',\n",
       "  'iso3': 'BDI',\n",
       "  'isonum': '108',\n",
       "  'linked_country': '',\n",
       "  'modified': ''},\n",
       " {'country': 'Cambodia',\n",
       "  'euname': 'Cambodia',\n",
       "  'grc': 'CAM',\n",
       "  'imperitive': '',\n",
       "  'iso2': 'KH',\n",
       "  'iso3': 'KHM',\n",
       "  'isonum': '116',\n",
       "  'linked_country': '',\n",
       "  'modified': ''},\n",
       " {'country': 'Cameroon',\n",
       "  'euname': 'Cameroon',\n",
       "  'grc': 'CAE',\n",
       "  'imperitive': '',\n",
       "  'iso2': 'CM',\n",
       "  'iso3': 'CMR',\n",
       "  'isonum': '120',\n",
       "  'linked_country': '',\n",
       "  'modified': ''},\n",
       " {'country': 'Canada',\n",
       "  'euname': 'Canada',\n",
       "  'grc': 'CAN',\n",
       "  'imperitive': '',\n",
       "  'iso2': 'CA',\n",
       "  'iso3': 'CAN',\n",
       "  'isonum': '124',\n",
       "  'linked_country': '',\n",
       "  'modified': ''},\n",
       " {'country': 'Cape Verde Islands',\n",
       "  'euname': 'CAPE VERDE',\n",
       "  'grc': 'CAP',\n",
       "  'imperitive': '',\n",
       "  'iso2': 'CV',\n",
       "  'iso3': 'CPV',\n",
       "  'isonum': '132',\n",
       "  'linked_country': '',\n",
       "  'modified': ''},\n",
       " {'country': 'Cayman Islands',\n",
       "  'euname': '',\n",
       "  'grc': 'CAY',\n",
       "  'imperitive': 'Geographical; Postal; Currency; Telephone',\n",
       "  'iso2': 'KY',\n",
       "  'iso3': 'CYM',\n",
       "  'isonum': '136',\n",
       "  'linked_country': 'United Kingdom',\n",
       "  'modified': ''},\n",
       " {'country': 'Central African Republic',\n",
       "  'euname': 'CENTRAL AFRICAN, REPUBLIC',\n",
       "  'grc': 'CEN',\n",
       "  'imperitive': '',\n",
       "  'iso2': 'CF',\n",
       "  'iso3': 'CAF',\n",
       "  'isonum': '140',\n",
       "  'linked_country': '',\n",
       "  'modified': ''},\n",
       " {'country': 'Chad',\n",
       "  'euname': 'Chad',\n",
       "  'grc': 'CHA',\n",
       "  'imperitive': '',\n",
       "  'iso2': 'TD',\n",
       "  'iso3': 'TCD',\n",
       "  'isonum': '148',\n",
       "  'linked_country': '',\n",
       "  'modified': ''},\n",
       " {'country': 'Chile',\n",
       "  'euname': 'CHILE',\n",
       "  'grc': 'CHI',\n",
       "  'imperitive': '',\n",
       "  'iso2': 'CL',\n",
       "  'iso3': 'CHL',\n",
       "  'isonum': '152',\n",
       "  'linked_country': '',\n",
       "  'modified': ''},\n",
       " {'country': 'China',\n",
       "  'euname': 'CHINA',\n",
       "  'grc': 'CHN',\n",
       "  'imperitive': '',\n",
       "  'iso2': 'CN',\n",
       "  'iso3': 'CHN',\n",
       "  'isonum': '156',\n",
       "  'linked_country': '',\n",
       "  'modified': ''},\n",
       " {'country': 'Christmas Island',\n",
       "  'euname': '',\n",
       "  'grc': 'CHR',\n",
       "  'imperitive': 'Geographical',\n",
       "  'iso2': 'CX',\n",
       "  'iso3': 'CXR',\n",
       "  'isonum': '162',\n",
       "  'linked_country': 'Australia',\n",
       "  'modified': ''},\n",
       " {'country': 'Cocos (Keeling) Islands',\n",
       "  'euname': '',\n",
       "  'grc': 'COC',\n",
       "  'imperitive': 'Geographical',\n",
       "  'iso2': 'CC',\n",
       "  'iso3': 'CCK',\n",
       "  'isonum': '166',\n",
       "  'linked_country': 'Australia',\n",
       "  'modified': ''},\n",
       " {'country': 'Colombia',\n",
       "  'euname': 'Colombia',\n",
       "  'grc': 'CLO',\n",
       "  'imperitive': '',\n",
       "  'iso2': 'CO',\n",
       "  'iso3': 'COL',\n",
       "  'isonum': '170',\n",
       "  'linked_country': '',\n",
       "  'modified': ''},\n",
       " {'country': 'Comoros',\n",
       "  'euname': 'COMOROS',\n",
       "  'grc': 'COM',\n",
       "  'imperitive': '',\n",
       "  'iso2': 'KM',\n",
       "  'iso3': 'COM',\n",
       "  'isonum': '174',\n",
       "  'linked_country': '',\n",
       "  'modified': ''},\n",
       " {'country': 'Congo (Brazzaville)',\n",
       "  'euname': 'CONGO',\n",
       "  'grc': 'CNG',\n",
       "  'imperitive': '',\n",
       "  'iso2': 'CG',\n",
       "  'iso3': 'COG',\n",
       "  'isonum': '178',\n",
       "  'linked_country': '',\n",
       "  'modified': ''},\n",
       " {'country': 'Congo (Kinshasa)',\n",
       "  'euname': 'CONGO, DEMOCRATIC REPUBLIC OF',\n",
       "  'grc': 'ZAI',\n",
       "  'imperitive': '',\n",
       "  'iso2': 'CD',\n",
       "  'iso3': 'ZAR',\n",
       "  'isonum': '180',\n",
       "  'linked_country': '',\n",
       "  'modified': ''},\n",
       " {'country': 'Cook Islands',\n",
       "  'euname': 'COOK ISLANDS',\n",
       "  'grc': 'COO',\n",
       "  'imperitive': 'Geographical; Postal; Telephone',\n",
       "  'iso2': 'CK',\n",
       "  'iso3': 'COK',\n",
       "  'isonum': '184',\n",
       "  'linked_country': 'New Zealand',\n",
       "  'modified': ''},\n",
       " {'country': 'Costa Rica',\n",
       "  'euname': 'Costa Rica',\n",
       "  'grc': 'COS',\n",
       "  'imperitive': '',\n",
       "  'iso2': 'CR',\n",
       "  'iso3': 'CRI',\n",
       "  'isonum': '188',\n",
       "  'linked_country': '',\n",
       "  'modified': ''},\n",
       " {'country': 'Croatia',\n",
       "  'euname': 'Croatia',\n",
       "  'grc': 'CRO',\n",
       "  'imperitive': '',\n",
       "  'iso2': 'HR',\n",
       "  'iso3': 'HRV',\n",
       "  'isonum': '191',\n",
       "  'linked_country': '',\n",
       "  'modified': ''},\n",
       " {'country': 'Cuba',\n",
       "  'euname': 'CUBA',\n",
       "  'grc': 'CUB',\n",
       "  'imperitive': '',\n",
       "  'iso2': 'CU',\n",
       "  'iso3': 'CUB',\n",
       "  'isonum': '192',\n",
       "  'linked_country': '',\n",
       "  'modified': ''},\n",
       " {'country': 'CuraÃ§ao',\n",
       "  'euname': '',\n",
       "  'grc': 'CUR',\n",
       "  'imperitive': 'Geographical; Postal; Currency; Telephone',\n",
       "  'iso2': 'CW',\n",
       "  'iso3': 'CUW',\n",
       "  'isonum': '531',\n",
       "  'linked_country': 'Netherlands',\n",
       "  'modified': 'ISO codes added 28th Dec. 2010'},\n",
       " {'country': 'Cyprus',\n",
       "  'euname': 'Cyprus',\n",
       "  'grc': 'CYP',\n",
       "  'imperitive': '',\n",
       "  'iso2': 'CY',\n",
       "  'iso3': 'CYP',\n",
       "  'isonum': '196',\n",
       "  'linked_country': '',\n",
       "  'modified': ''},\n",
       " {'country': 'Czech Republic',\n",
       "  'euname': 'Czech Republic',\n",
       "  'grc': 'CZE',\n",
       "  'imperitive': '',\n",
       "  'iso2': 'CZ',\n",
       "  'iso3': 'CZE',\n",
       "  'isonum': '203',\n",
       "  'linked_country': '',\n",
       "  'modified': ''},\n",
       " {'country': 'Denmark',\n",
       "  'euname': 'Denmark',\n",
       "  'grc': 'DEN',\n",
       "  'imperitive': '',\n",
       "  'iso2': 'DK',\n",
       "  'iso3': 'DNK',\n",
       "  'isonum': '208',\n",
       "  'linked_country': '',\n",
       "  'modified': ''},\n",
       " {'country': 'Djibouti',\n",
       "  'euname': 'DJIBOUTI',\n",
       "  'grc': 'DJI',\n",
       "  'imperitive': '',\n",
       "  'iso2': 'DJ',\n",
       "  'iso3': 'DJI',\n",
       "  'isonum': '262',\n",
       "  'linked_country': '',\n",
       "  'modified': ''},\n",
       " {'country': 'Dominica',\n",
       "  'euname': 'DOMINIQUE',\n",
       "  'grc': 'DOI',\n",
       "  'imperitive': '',\n",
       "  'iso2': 'DM',\n",
       "  'iso3': 'DMA',\n",
       "  'isonum': '212',\n",
       "  'linked_country': '',\n",
       "  'modified': ''},\n",
       " {'country': 'Dominican Republic',\n",
       "  'euname': 'Dominican Republic',\n",
       "  'grc': 'DOM',\n",
       "  'imperitive': '',\n",
       "  'iso2': 'DO',\n",
       "  'iso3': 'DOM',\n",
       "  'isonum': '214',\n",
       "  'linked_country': '',\n",
       "  'modified': ''},\n",
       " {'country': 'East Timor',\n",
       "  'euname': 'EAST TIMOR',\n",
       "  'grc': 'ETI',\n",
       "  'imperitive': '',\n",
       "  'iso2': 'TL',\n",
       "  'iso3': 'TLS',\n",
       "  'isonum': '626',\n",
       "  'linked_country': '',\n",
       "  'modified': ''},\n",
       " {'country': 'Ecuador',\n",
       "  'euname': 'Ecuador',\n",
       "  'grc': 'ECU',\n",
       "  'imperitive': '',\n",
       "  'iso2': 'EC',\n",
       "  'iso3': 'ECU',\n",
       "  'isonum': '218',\n",
       "  'linked_country': '',\n",
       "  'modified': ''},\n",
       " {'country': 'Egypt',\n",
       "  'euname': 'EGYPT',\n",
       "  'grc': 'EGY',\n",
       "  'imperitive': '',\n",
       "  'iso2': 'EG',\n",
       "  'iso3': 'EGY',\n",
       "  'isonum': '818',\n",
       "  'linked_country': '',\n",
       "  'modified': ''},\n",
       " {'country': 'El Salvador',\n",
       "  'euname': 'El Salvador',\n",
       "  'grc': 'ELS',\n",
       "  'imperitive': '',\n",
       "  'iso2': 'SV',\n",
       "  'iso3': 'SLV',\n",
       "  'isonum': '222',\n",
       "  'linked_country': '',\n",
       "  'modified': ''},\n",
       " {'country': 'Equatorial Guinea',\n",
       "  'euname': 'EQUATORIAL GUINEA',\n",
       "  'grc': 'EQA',\n",
       "  'imperitive': '',\n",
       "  'iso2': 'GQ',\n",
       "  'iso3': 'GNQ',\n",
       "  'isonum': '226',\n",
       "  'linked_country': '',\n",
       "  'modified': ''},\n",
       " {'country': 'Eritrea',\n",
       "  'euname': 'ERITREA',\n",
       "  'grc': 'ERI',\n",
       "  'imperitive': '',\n",
       "  'iso2': 'ER',\n",
       "  'iso3': 'ERI',\n",
       "  'isonum': '232',\n",
       "  'linked_country': '',\n",
       "  'modified': ''},\n",
       " {'country': 'Estonia',\n",
       "  'euname': 'Estonia',\n",
       "  'grc': 'EST',\n",
       "  'imperitive': '',\n",
       "  'iso2': 'EE',\n",
       "  'iso3': 'EST',\n",
       "  'isonum': '233',\n",
       "  'linked_country': '',\n",
       "  'modified': ''},\n",
       " {'country': 'Ethiopia',\n",
       "  'euname': 'ETHIOPIA',\n",
       "  'grc': 'ETH',\n",
       "  'imperitive': '',\n",
       "  'iso2': 'ET',\n",
       "  'iso3': 'ETH',\n",
       "  'isonum': '231',\n",
       "  'linked_country': '',\n",
       "  'modified': ''},\n",
       " {'country': 'Faeroe Islands',\n",
       "  'euname': 'FAROE ISLANDS',\n",
       "  'grc': 'FAE',\n",
       "  'imperitive': '',\n",
       "  'iso2': 'FO',\n",
       "  'iso3': 'FRO',\n",
       "  'isonum': '234',\n",
       "  'linked_country': '',\n",
       "  'modified': ''},\n",
       " {'country': 'Falkland Islands',\n",
       "  'euname': '',\n",
       "  'grc': 'FAL',\n",
       "  'imperitive': 'Geographical; Postal; Currency; Telephone',\n",
       "  'iso2': 'FK',\n",
       "  'iso3': 'FLK',\n",
       "  'isonum': '238',\n",
       "  'linked_country': 'United Kingdom',\n",
       "  'modified': ''},\n",
       " {'country': 'Fiji',\n",
       "  'euname': 'FIJI',\n",
       "  'grc': 'FIJ',\n",
       "  'imperitive': '',\n",
       "  'iso2': 'FJ',\n",
       "  'iso3': 'FJI',\n",
       "  'isonum': '242',\n",
       "  'linked_country': '',\n",
       "  'modified': ''},\n",
       " {'country': 'Finland',\n",
       "  'euname': 'Finland',\n",
       "  'grc': 'FIN',\n",
       "  'imperitive': '',\n",
       "  'iso2': 'FI',\n",
       "  'iso3': 'FIN',\n",
       "  'isonum': '246',\n",
       "  'linked_country': '',\n",
       "  'modified': ''},\n",
       " {'country': 'France',\n",
       "  'euname': 'France',\n",
       "  'grc': 'FRA',\n",
       "  'imperitive': '',\n",
       "  'iso2': 'FR',\n",
       "  'iso3': 'FRA',\n",
       "  'isonum': '250',\n",
       "  'linked_country': '',\n",
       "  'modified': ''},\n",
       " {'country': 'French Guiana',\n",
       "  'euname': 'FRENCH GUYANA',\n",
       "  'grc': 'FGU',\n",
       "  'imperitive': 'Geographical; Telephone',\n",
       "  'iso2': 'GF',\n",
       "  'iso3': 'GUF',\n",
       "  'isonum': '254',\n",
       "  'linked_country': 'France',\n",
       "  'modified': ''},\n",
       " {'country': 'French Polynesia',\n",
       "  'euname': 'FRENCH POLYNESIA',\n",
       "  'grc': 'FPO',\n",
       "  'imperitive': 'Geographical; Currency; Telephone',\n",
       "  'iso2': 'PF',\n",
       "  'iso3': 'PYF',\n",
       "  'isonum': '258',\n",
       "  'linked_country': 'France',\n",
       "  'modified': 'Corrected 13th November 2010'},\n",
       " {'country': 'French Southern Territories',\n",
       "  'euname': '',\n",
       "  'grc': 'FST',\n",
       "  'imperitive': 'Geographical; Postal; Telephone',\n",
       "  'iso2': 'TF',\n",
       "  'iso3': 'ATF',\n",
       "  'isonum': '260',\n",
       "  'linked_country': 'France',\n",
       "  'modified': ''},\n",
       " {'country': 'Gabon',\n",
       "  'euname': 'GABON',\n",
       "  'grc': 'GAB',\n",
       "  'imperitive': '',\n",
       "  'iso2': 'GA',\n",
       "  'iso3': 'GAB',\n",
       "  'isonum': '266',\n",
       "  'linked_country': '',\n",
       "  'modified': ''},\n",
       " {'country': 'Gambia',\n",
       "  'euname': 'GAMBIA',\n",
       "  'grc': 'GAM',\n",
       "  'imperitive': '',\n",
       "  'iso2': 'GM',\n",
       "  'iso3': 'GMB',\n",
       "  'isonum': '270',\n",
       "  'linked_country': '',\n",
       "  'modified': ''},\n",
       " {'country': 'Georgia',\n",
       "  'euname': 'GEORGIA',\n",
       "  'grc': 'GEO',\n",
       "  'imperitive': '',\n",
       "  'iso2': 'GE',\n",
       "  'iso3': 'GEO',\n",
       "  'isonum': '268',\n",
       "  'linked_country': '',\n",
       "  'modified': ''},\n",
       " {'country': 'Germany',\n",
       "  'euname': 'Germany',\n",
       "  'grc': 'GER',\n",
       "  'imperitive': '',\n",
       "  'iso2': 'DE',\n",
       "  'iso3': 'DEU',\n",
       "  'isonum': '276',\n",
       "  'linked_country': '',\n",
       "  'modified': ''},\n",
       " {'country': 'Ghana',\n",
       "  'euname': 'Ghana',\n",
       "  'grc': 'GHA',\n",
       "  'imperitive': '',\n",
       "  'iso2': 'GH',\n",
       "  'iso3': 'GHA',\n",
       "  'isonum': '288',\n",
       "  'linked_country': '',\n",
       "  'modified': ''},\n",
       " {'country': 'Gibralter',\n",
       "  'euname': 'GIBRALTAR',\n",
       "  'grc': 'GIB',\n",
       "  'imperitive': 'Geographical; Postal; Currency; Telephone',\n",
       "  'iso2': 'GI',\n",
       "  'iso3': 'GIB',\n",
       "  'isonum': '292',\n",
       "  'linked_country': 'United Kingdom',\n",
       "  'modified': ''},\n",
       " {'country': 'Greece',\n",
       "  'euname': 'Greece',\n",
       "  'grc': 'GRE',\n",
       "  'imperitive': '',\n",
       "  'iso2': 'GR',\n",
       "  'iso3': 'GRC',\n",
       "  'isonum': '300',\n",
       "  'linked_country': '',\n",
       "  'modified': ''},\n",
       " {'country': 'Greenland',\n",
       "  'euname': 'GREENLAND',\n",
       "  'grc': 'GRN',\n",
       "  'imperitive': 'Geographical; Postal; Telephone',\n",
       "  'iso2': 'GL',\n",
       "  'iso3': 'GRL',\n",
       "  'isonum': '304',\n",
       "  'linked_country': 'Denmark',\n",
       "  'modified': ''},\n",
       " {'country': 'Grenada',\n",
       "  'euname': 'GRENADA',\n",
       "  'grc': 'GRA',\n",
       "  'imperitive': '',\n",
       "  'iso2': 'GD',\n",
       "  'iso3': 'GRD',\n",
       "  'isonum': '308',\n",
       "  'linked_country': '',\n",
       "  'modified': ''},\n",
       " {'country': 'Guadeloupe',\n",
       "  'euname': 'GUADELOUPE',\n",
       "  'grc': 'GUD',\n",
       "  'imperitive': 'Geographical; Postal; Telephone',\n",
       "  'iso2': 'GP',\n",
       "  'iso3': 'GLP',\n",
       "  'isonum': '312',\n",
       "  'linked_country': 'France',\n",
       "  'modified': ''},\n",
       " {'country': 'Guam',\n",
       "  'euname': '',\n",
       "  'grc': 'GUM',\n",
       "  'imperitive': 'Geographical',\n",
       "  'iso2': 'GU',\n",
       "  'iso3': 'GUM',\n",
       "  'isonum': '316',\n",
       "  'linked_country': 'United States of America',\n",
       "  'modified': ''},\n",
       " {'country': 'Guatemala',\n",
       "  'euname': 'Guatemala',\n",
       "  'grc': 'GUA',\n",
       "  'imperitive': '',\n",
       "  'iso2': 'GT',\n",
       "  'iso3': 'GTM',\n",
       "  'isonum': '320',\n",
       "  'linked_country': '',\n",
       "  'modified': ''},\n",
       " {'country': 'Guernsey',\n",
       "  'euname': '',\n",
       "  'grc': 'GUE',\n",
       "  'imperitive': 'Postal',\n",
       "  'iso2': 'GG',\n",
       "  'iso3': 'GGY',\n",
       "  'isonum': '831',\n",
       "  'linked_country': 'United Kingdom',\n",
       "  'modified': ''},\n",
       " {'country': 'Guinea',\n",
       "  'euname': 'Guinea',\n",
       "  'grc': 'GUI',\n",
       "  'imperitive': '',\n",
       "  'iso2': 'GN',\n",
       "  'iso3': 'GIN',\n",
       "  'isonum': '324',\n",
       "  'linked_country': '',\n",
       "  'modified': ''},\n",
       " {'country': 'Guinea-Bissau',\n",
       "  'euname': 'GUINEA BISSAU',\n",
       "  'grc': 'GUB',\n",
       "  'imperitive': '',\n",
       "  'iso2': 'GW',\n",
       "  'iso3': 'GNB',\n",
       "  'isonum': '624',\n",
       "  'linked_country': '',\n",
       "  'modified': ''},\n",
       " {'country': 'Guyana',\n",
       "  'euname': 'GUYANA',\n",
       "  'grc': 'GUY',\n",
       "  'imperitive': '',\n",
       "  'iso2': 'GY',\n",
       "  'iso3': 'GUY',\n",
       "  'isonum': '328',\n",
       "  'linked_country': '',\n",
       "  'modified': ''},\n",
       " {'country': 'Haiti',\n",
       "  'euname': 'HAITI',\n",
       "  'grc': 'HAI',\n",
       "  'imperitive': '',\n",
       "  'iso2': 'HT',\n",
       "  'iso3': 'HTI',\n",
       "  'isonum': '332',\n",
       "  'linked_country': '',\n",
       "  'modified': ''},\n",
       " {'country': 'Holy See',\n",
       "  'euname': 'HOLY SEE (VATICAN CITY STATE)',\n",
       "  'grc': 'VAT',\n",
       "  'imperitive': '',\n",
       "  'iso2': 'VA',\n",
       "  'iso3': 'VAT',\n",
       "  'isonum': '336',\n",
       "  'linked_country': '',\n",
       "  'modified': ''},\n",
       " {'country': 'Honduras',\n",
       "  'euname': 'Honduras',\n",
       "  'grc': 'HON',\n",
       "  'imperitive': '',\n",
       "  'iso2': 'HN',\n",
       "  'iso3': 'HND',\n",
       "  'isonum': '340',\n",
       "  'linked_country': '',\n",
       "  'modified': ''},\n",
       " {'country': 'Hong Kong',\n",
       "  'euname': 'Hong Kong',\n",
       "  'grc': 'HOK',\n",
       "  'imperitive': 'Postal; Currency; Telephone',\n",
       "  'iso2': 'HK',\n",
       "  'iso3': 'HKG',\n",
       "  'isonum': '344',\n",
       "  'linked_country': 'China',\n",
       "  'modified': ''},\n",
       " {'country': 'Hungary',\n",
       "  'euname': 'Hungary',\n",
       "  'grc': 'HUN',\n",
       "  'imperitive': '',\n",
       "  'iso2': 'HU',\n",
       "  'iso3': 'HUN',\n",
       "  'isonum': '348',\n",
       "  'linked_country': '',\n",
       "  'modified': ''},\n",
       " {'country': 'Iceland',\n",
       "  'euname': 'Iceland',\n",
       "  'grc': 'ICE',\n",
       "  'imperitive': '',\n",
       "  'iso2': 'IS',\n",
       "  'iso3': 'ISL',\n",
       "  'isonum': '352',\n",
       "  'linked_country': '',\n",
       "  'modified': ''},\n",
       " {'country': 'India',\n",
       "  'euname': 'India',\n",
       "  'grc': 'IND',\n",
       "  'imperitive': '',\n",
       "  'iso2': 'IN',\n",
       "  'iso3': 'IND',\n",
       "  'isonum': '356',\n",
       "  'linked_country': '',\n",
       "  'modified': ''},\n",
       " {'country': 'Indonesia',\n",
       "  'euname': 'INDONESIA',\n",
       "  'grc': 'INO',\n",
       "  'imperitive': '',\n",
       "  'iso2': 'ID',\n",
       "  'iso3': 'IDN',\n",
       "  'isonum': '360',\n",
       "  'linked_country': '',\n",
       "  'modified': ''},\n",
       " {'country': 'Iran',\n",
       "  'euname': 'IRAN, ISLAMIC REPUBLIC OF',\n",
       "  'grc': 'IRA',\n",
       "  'imperitive': '',\n",
       "  'iso2': 'IR',\n",
       "  'iso3': 'IRN',\n",
       "  'isonum': '364',\n",
       "  'linked_country': '',\n",
       "  'modified': ''},\n",
       " {'country': 'Iraq',\n",
       "  'euname': 'IRAQ',\n",
       "  'grc': 'IRQ',\n",
       "  'imperitive': '',\n",
       "  'iso2': 'IQ',\n",
       "  'iso3': 'IRQ',\n",
       "  'isonum': '368',\n",
       "  'linked_country': '',\n",
       "  'modified': ''},\n",
       " {'country': 'Ireland',\n",
       "  'euname': 'Ireland',\n",
       "  'grc': 'IRE',\n",
       "  'imperitive': '',\n",
       "  'iso2': 'IE',\n",
       "  'iso3': 'IRL',\n",
       "  'isonum': '372',\n",
       "  'linked_country': '',\n",
       "  'modified': ''},\n",
       " {'country': 'Isle of Man',\n",
       "  'euname': '',\n",
       "  'grc': 'ISL',\n",
       "  'imperitive': 'Postal',\n",
       "  'iso2': 'IM',\n",
       "  'iso3': 'IMN',\n",
       "  'isonum': '833',\n",
       "  'linked_country': 'United Kingdom',\n",
       "  'modified': ''},\n",
       " {'country': 'Israel',\n",
       "  'euname': 'Israel',\n",
       "  'grc': 'ISR',\n",
       "  'imperitive': '',\n",
       "  'iso2': 'IL',\n",
       "  'iso3': 'ISR',\n",
       "  'isonum': '376',\n",
       "  'linked_country': '',\n",
       "  'modified': ''},\n",
       " {'country': 'Italy',\n",
       "  'euname': 'Italy',\n",
       "  'grc': 'ITA',\n",
       "  'imperitive': '',\n",
       "  'iso2': 'IT',\n",
       "  'iso3': 'ITA',\n",
       "  'isonum': '380',\n",
       "  'linked_country': '',\n",
       "  'modified': ''},\n",
       " {'country': 'Ivory Coast',\n",
       "  'euname': \"COTE D'IVOIRE\",\n",
       "  'grc': 'IVO',\n",
       "  'imperitive': '',\n",
       "  'iso2': 'CI',\n",
       "  'iso3': 'CIV',\n",
       "  'isonum': '384',\n",
       "  'linked_country': '',\n",
       "  'modified': ''},\n",
       " {'country': 'Jamaica',\n",
       "  'euname': 'Jamaica',\n",
       "  'grc': 'JAM',\n",
       "  'imperitive': '',\n",
       "  'iso2': 'JM',\n",
       "  'iso3': 'JAM',\n",
       "  'isonum': '388',\n",
       "  'linked_country': '',\n",
       "  'modified': ''},\n",
       " {'country': 'Japan',\n",
       "  'euname': 'Japan',\n",
       "  'grc': 'JAP',\n",
       "  'imperitive': '',\n",
       "  'iso2': 'JP',\n",
       "  'iso3': 'JPN',\n",
       "  'isonum': '392',\n",
       "  'linked_country': '',\n",
       "  'modified': ''},\n",
       " {'country': 'Jersey',\n",
       "  'euname': 'JERSEY',\n",
       "  'grc': 'JER',\n",
       "  'imperitive': 'Postal',\n",
       "  'iso2': 'JE',\n",
       "  'iso3': 'JEY',\n",
       "  'isonum': '832',\n",
       "  'linked_country': 'United Kingdom',\n",
       "  'modified': ''},\n",
       " {'country': 'Jordan',\n",
       "  'euname': 'JORDAN',\n",
       "  'grc': 'JOR',\n",
       "  'imperitive': '',\n",
       "  'iso2': 'JO',\n",
       "  'iso3': 'JOR',\n",
       "  'isonum': '400',\n",
       "  'linked_country': '',\n",
       "  'modified': ''},\n",
       " {'country': 'Kazakhstan',\n",
       "  'euname': 'KAZAKHSTAN',\n",
       "  'grc': 'KAZ',\n",
       "  'imperitive': '',\n",
       "  'iso2': 'KZ',\n",
       "  'iso3': 'KAZ',\n",
       "  'isonum': '398',\n",
       "  'linked_country': '',\n",
       "  'modified': ''},\n",
       " {'country': 'Kenya',\n",
       "  'euname': 'Kenya',\n",
       "  'grc': 'KEN',\n",
       "  'imperitive': '',\n",
       "  'iso2': 'KE',\n",
       "  'iso3': 'KEN',\n",
       "  'isonum': '404',\n",
       "  'linked_country': '',\n",
       "  'modified': ''},\n",
       " {'country': 'Kiribati',\n",
       "  'euname': 'KIRIBATI',\n",
       "  'grc': 'KII',\n",
       "  'imperitive': '',\n",
       "  'iso2': 'KI',\n",
       "  'iso3': 'KIR',\n",
       "  'isonum': '296',\n",
       "  'linked_country': '',\n",
       "  'modified': ''},\n",
       " {'country': 'Kosovo',\n",
       "  'euname': '',\n",
       "  'grc': 'KOS',\n",
       "  'imperitive': 'Postal; Currency; Telephone',\n",
       "  'iso2': '',\n",
       "  'iso3': '',\n",
       "  'isonum': '',\n",
       "  'linked_country': 'Serbia',\n",
       "  'modified': ''},\n",
       " {'country': 'Kuwait',\n",
       "  'euname': 'KUWAIT',\n",
       "  'grc': 'KUW',\n",
       "  'imperitive': '',\n",
       "  'iso2': 'KW',\n",
       "  'iso3': 'KWT',\n",
       "  'isonum': '414',\n",
       "  'linked_country': '',\n",
       "  'modified': ''},\n",
       " {'country': 'Kyrgyzstan',\n",
       "  'euname': 'KYRGYZSTAN',\n",
       "  'grc': 'KIR',\n",
       "  'imperitive': '',\n",
       "  'iso2': 'KG',\n",
       "  'iso3': 'KGZ',\n",
       "  'isonum': '417',\n",
       "  'linked_country': '',\n",
       "  'modified': ''},\n",
       " {'country': 'Laos',\n",
       "  'euname': \"LAOS, PEOPLE'S DEMOCRATIC REPUBLIC\",\n",
       "  'grc': 'LAO',\n",
       "  'imperitive': '',\n",
       "  'iso2': 'LA',\n",
       "  'iso3': 'LAO',\n",
       "  'isonum': '418',\n",
       "  'linked_country': '',\n",
       "  'modified': ''},\n",
       " {'country': 'Latvia',\n",
       "  'euname': 'Latvia',\n",
       "  'grc': 'LAT',\n",
       "  'imperitive': '',\n",
       "  'iso2': 'LV',\n",
       "  'iso3': 'LVA',\n",
       "  'isonum': '428',\n",
       "  'linked_country': '',\n",
       "  'modified': ''},\n",
       " {'country': 'Lebanon',\n",
       "  'euname': 'LEBANON',\n",
       "  'grc': 'LEB',\n",
       "  'imperitive': '',\n",
       "  'iso2': 'LB',\n",
       "  'iso3': 'LBN',\n",
       "  'isonum': '422',\n",
       "  'linked_country': '',\n",
       "  'modified': ''},\n",
       " {'country': 'Lesotho',\n",
       "  'euname': 'LESOTHO',\n",
       "  'grc': 'LES',\n",
       "  'imperitive': '',\n",
       "  'iso2': 'LS',\n",
       "  'iso3': 'LSO',\n",
       "  'isonum': '426',\n",
       "  'linked_country': '',\n",
       "  'modified': ''},\n",
       " {'country': 'Liberia',\n",
       "  'euname': 'LIBERIA',\n",
       "  'grc': 'LIR',\n",
       "  'imperitive': '',\n",
       "  'iso2': 'LR',\n",
       "  'iso3': 'LBR',\n",
       "  'isonum': '430',\n",
       "  'linked_country': '',\n",
       "  'modified': ''},\n",
       " {'country': 'Libya',\n",
       "  'euname': 'LIBYA',\n",
       "  'grc': 'LIB',\n",
       "  'imperitive': '',\n",
       "  'iso2': 'LY',\n",
       "  'iso3': 'LBY',\n",
       "  'isonum': '434',\n",
       "  'linked_country': '',\n",
       "  'modified': ''},\n",
       " {'country': 'Liechtenstein',\n",
       "  'euname': 'LIECHTENSTEIN',\n",
       "  'grc': 'LIE',\n",
       "  'imperitive': '',\n",
       "  'iso2': 'LI',\n",
       "  'iso3': 'LIE',\n",
       "  'isonum': '438',\n",
       "  'linked_country': '',\n",
       "  'modified': ''},\n",
       " {'country': 'Lithuania',\n",
       "  'euname': 'LITUANIA',\n",
       "  'grc': 'LIT',\n",
       "  'imperitive': '',\n",
       "  'iso2': 'LT',\n",
       "  'iso3': 'LTU',\n",
       "  'isonum': '440',\n",
       "  'linked_country': '',\n",
       "  'modified': ''},\n",
       " {'country': 'Luxembourg',\n",
       "  'euname': 'Luxembourg',\n",
       "  'grc': 'LUX',\n",
       "  'imperitive': '',\n",
       "  'iso2': 'LU',\n",
       "  'iso3': 'LUX',\n",
       "  'isonum': '442',\n",
       "  'linked_country': '',\n",
       "  'modified': ''},\n",
       " {'country': 'Macau',\n",
       "  'euname': 'MACAO',\n",
       "  'grc': 'MCA',\n",
       "  'imperitive': 'Postal; Currency; Telephone',\n",
       "  'iso2': 'MO',\n",
       "  'iso3': 'MAC',\n",
       "  'isonum': '446',\n",
       "  'linked_country': 'China',\n",
       "  'modified': ''},\n",
       " {'country': 'Macedonia',\n",
       "  'euname': 'MACEDONIA, FORMER YUGOSLAV REPUBLIC OF',\n",
       "  'grc': 'MCE',\n",
       "  'imperitive': '',\n",
       "  'iso2': 'MK',\n",
       "  'iso3': 'MKD',\n",
       "  'isonum': '807',\n",
       "  'linked_country': '',\n",
       "  'modified': ''},\n",
       " {'country': 'Madagascar',\n",
       "  'euname': 'MADAGASCAR',\n",
       "  'grc': 'MAD',\n",
       "  'imperitive': '',\n",
       "  'iso2': 'MG',\n",
       "  'iso3': 'MDG',\n",
       "  'isonum': '450',\n",
       "  'linked_country': '',\n",
       "  'modified': ''},\n",
       " {'country': 'Malawi',\n",
       "  'euname': 'MALAWI',\n",
       "  'grc': 'MAW',\n",
       "  'imperitive': '',\n",
       "  'iso2': 'MW',\n",
       "  'iso3': 'MWI',\n",
       "  'isonum': '454',\n",
       "  'linked_country': '',\n",
       "  'modified': ''},\n",
       " {'country': 'Malaysia',\n",
       "  'euname': 'Malaysia',\n",
       "  'grc': 'MAA',\n",
       "  'imperitive': '',\n",
       "  'iso2': 'MY',\n",
       "  'iso3': 'MYS',\n",
       "  'isonum': '458',\n",
       "  'linked_country': '',\n",
       "  'modified': ''},\n",
       " {'country': 'Maldives',\n",
       "  'euname': 'MALDIVES',\n",
       "  'grc': 'MAV',\n",
       "  'imperitive': '',\n",
       "  'iso2': 'MV',\n",
       "  'iso3': 'MDV',\n",
       "  'isonum': '462',\n",
       "  'linked_country': '',\n",
       "  'modified': ''},\n",
       " {'country': 'Mali',\n",
       "  'euname': 'MALI',\n",
       "  'grc': 'MAI',\n",
       "  'imperitive': '',\n",
       "  'iso2': 'ML',\n",
       "  'iso3': 'MLI',\n",
       "  'isonum': '466',\n",
       "  'linked_country': '',\n",
       "  'modified': ''},\n",
       " {'country': 'Malta',\n",
       "  'euname': 'Malta',\n",
       "  'grc': 'MAL',\n",
       "  'imperitive': '',\n",
       "  'iso2': 'MT',\n",
       "  'iso3': 'MLT',\n",
       "  'isonum': '470',\n",
       "  'linked_country': '',\n",
       "  'modified': ''},\n",
       " {'country': 'Marshall Islands',\n",
       "  'euname': 'MARSHALL ISLANDS',\n",
       "  'grc': 'MAR',\n",
       "  'imperitive': '',\n",
       "  'iso2': 'MH',\n",
       "  'iso3': 'MHL',\n",
       "  'isonum': '584',\n",
       "  'linked_country': '',\n",
       "  'modified': ''},\n",
       " {'country': 'Martinique',\n",
       "  'euname': 'MARTINIQUE',\n",
       "  'grc': 'MAN',\n",
       "  'imperitive': 'Geographical; Postal; Telephone',\n",
       "  'iso2': 'MQ',\n",
       "  'iso3': 'MTQ',\n",
       "  'isonum': '474',\n",
       "  'linked_country': 'France',\n",
       "  'modified': ''},\n",
       " {'country': 'Mauritania',\n",
       "  'euname': 'Mauritania',\n",
       "  'grc': 'MAU',\n",
       "  'imperitive': '',\n",
       "  'iso2': 'MR',\n",
       "  'iso3': 'MRT',\n",
       "  'isonum': '478',\n",
       "  'linked_country': '',\n",
       "  'modified': ''},\n",
       " {'country': 'Mauritius',\n",
       "  'euname': 'MAURITIUS',\n",
       "  'grc': 'MAT',\n",
       "  'imperitive': '',\n",
       "  'iso2': 'MU',\n",
       "  'iso3': 'MUS',\n",
       "  'isonum': '480',\n",
       "  'linked_country': '',\n",
       "  'modified': ''},\n",
       " {'country': 'Mayotte',\n",
       "  'euname': 'MAYOTTE',\n",
       "  'grc': 'MAY',\n",
       "  'imperitive': 'Geographical; Postal; Telephone',\n",
       "  'iso2': 'YT',\n",
       "  'iso3': 'MYT',\n",
       "  'isonum': '175',\n",
       "  'linked_country': 'France',\n",
       "  'modified': ''},\n",
       " {'country': 'Mexico',\n",
       "  'euname': 'Mexico',\n",
       "  'grc': 'MEX',\n",
       "  'imperitive': '',\n",
       "  'iso2': 'MX',\n",
       "  'iso3': 'MEX',\n",
       "  'isonum': '484',\n",
       "  'linked_country': '',\n",
       "  'modified': ''},\n",
       " {'country': 'Micronesia',\n",
       "  'euname': 'MICRONESIA, FEDERATED STATES OF',\n",
       "  'grc': 'MIC',\n",
       "  'imperitive': '',\n",
       "  'iso2': 'FM',\n",
       "  'iso3': 'FSM',\n",
       "  'isonum': '583',\n",
       "  'linked_country': '',\n",
       "  'modified': ''},\n",
       " {'country': 'Moldova',\n",
       "  'euname': 'MOLDOVA, REPUBLIC OF',\n",
       "  'grc': 'MOL',\n",
       "  'imperitive': '',\n",
       "  'iso2': 'MD',\n",
       "  'iso3': 'MDA',\n",
       "  'isonum': '498',\n",
       "  'linked_country': '',\n",
       "  'modified': ''},\n",
       " {'country': 'Monaco',\n",
       "  'euname': 'Monaco',\n",
       "  'grc': 'MON',\n",
       "  'imperitive': '',\n",
       "  'iso2': 'MC',\n",
       "  'iso3': 'MCO',\n",
       "  'isonum': '492',\n",
       "  'linked_country': '',\n",
       "  'modified': ''},\n",
       " {'country': 'Mongolia',\n",
       "  'euname': 'MONGOLIA',\n",
       "  'grc': 'MOG',\n",
       "  'imperitive': '',\n",
       "  'iso2': 'MN',\n",
       "  'iso3': 'MNG',\n",
       "  'isonum': '496',\n",
       "  'linked_country': '',\n",
       "  'modified': ''},\n",
       " {'country': 'Montenegro',\n",
       "  'euname': 'Montenegro',\n",
       "  'grc': 'MOE',\n",
       "  'imperitive': '',\n",
       "  'iso2': 'ME',\n",
       "  'iso3': 'MNE',\n",
       "  'isonum': '499',\n",
       "  'linked_country': '',\n",
       "  'modified': ''},\n",
       " {'country': 'Montserrat',\n",
       "  'euname': '',\n",
       "  'grc': 'MOT',\n",
       "  'imperitive': 'Geographical; Postal; Currency; Telephone',\n",
       "  'iso2': 'MS',\n",
       "  'iso3': 'MSR',\n",
       "  'isonum': '500',\n",
       "  'linked_country': 'United Kingdom',\n",
       "  'modified': ''},\n",
       " {'country': 'Morocco',\n",
       "  'euname': 'Morocco',\n",
       "  'grc': 'MOR',\n",
       "  'imperitive': '',\n",
       "  'iso2': 'MA',\n",
       "  'iso3': 'MAR',\n",
       "  'isonum': '504',\n",
       "  'linked_country': '',\n",
       "  'modified': ''},\n",
       " {'country': 'Mozambique',\n",
       "  'euname': 'Mozambique',\n",
       "  'grc': 'MOZ',\n",
       "  'imperitive': '',\n",
       "  'iso2': 'MZ',\n",
       "  'iso3': 'MOZ',\n",
       "  'isonum': '508',\n",
       "  'linked_country': '',\n",
       "  'modified': ''},\n",
       " {'country': 'Myanmar',\n",
       "  'euname': 'Myanmar',\n",
       "  'grc': 'BUR',\n",
       "  'imperitive': '',\n",
       "  'iso2': 'MM',\n",
       "  'iso3': 'MMR',\n",
       "  'isonum': '104',\n",
       "  'linked_country': '',\n",
       "  'modified': ''},\n",
       " {'country': 'Nagorno-Karabakh',\n",
       "  'euname': '',\n",
       "  'grc': 'NAG',\n",
       "  'imperitive': 'De Facto',\n",
       "  'iso2': '',\n",
       "  'iso3': '',\n",
       "  'isonum': '',\n",
       "  'linked_country': 'Azerbaijan',\n",
       "  'modified': ''},\n",
       " {'country': 'Namibia',\n",
       "  'euname': 'NAMIBIA',\n",
       "  'grc': 'NAM',\n",
       "  'imperitive': '',\n",
       "  'iso2': 'NA',\n",
       "  'iso3': 'NAM',\n",
       "  'isonum': '516',\n",
       "  'linked_country': '',\n",
       "  'modified': ''},\n",
       " {'country': 'Nauru',\n",
       "  'euname': 'NAURU',\n",
       "  'grc': 'NAU',\n",
       "  'imperitive': '',\n",
       "  'iso2': 'NR',\n",
       "  'iso3': 'NRU',\n",
       "  'isonum': '520',\n",
       "  'linked_country': '',\n",
       "  'modified': ''},\n",
       " {'country': 'Nepal',\n",
       "  'euname': 'NEPAL',\n",
       "  'grc': 'NEP',\n",
       "  'imperitive': '',\n",
       "  'iso2': 'NP',\n",
       "  'iso3': 'NPL',\n",
       "  'isonum': '524',\n",
       "  'linked_country': '',\n",
       "  'modified': ''},\n",
       " {'country': 'Netherlands Antilles',\n",
       "  'euname': 'Netherlands Antilles',\n",
       "  'grc': 'NAN',\n",
       "  'imperitive': 'Legacy',\n",
       "  'iso2': 'AN',\n",
       "  'iso3': 'ANT',\n",
       "  'isonum': '530',\n",
       "  'linked_country': '',\n",
       "  'modified': ''},\n",
       " {'country': 'Netherlands',\n",
       "  'euname': 'Netherlands',\n",
       "  'grc': 'NET',\n",
       "  'imperitive': '',\n",
       "  'iso2': 'NL',\n",
       "  'iso3': 'NLD',\n",
       "  'isonum': '528',\n",
       "  'linked_country': '',\n",
       "  'modified': ''},\n",
       " {'country': 'New Caledonia',\n",
       "  'euname': 'NEW CALEDONIA',\n",
       "  'grc': 'NCA',\n",
       "  'imperitive': 'Geographical; Postal; Currency; Telephone',\n",
       "  'iso2': 'NC',\n",
       "  'iso3': 'NCL',\n",
       "  'isonum': '540',\n",
       "  'linked_country': 'France',\n",
       "  'modified': ''},\n",
       " {'country': 'New Zealand',\n",
       "  'euname': 'NEW ZEALAND',\n",
       "  'grc': 'NEW',\n",
       "  'imperitive': '',\n",
       "  'iso2': 'NZ',\n",
       "  'iso3': 'NZL',\n",
       "  'isonum': '554',\n",
       "  'linked_country': '',\n",
       "  'modified': ''},\n",
       " {'country': 'Nicaragua',\n",
       "  'euname': 'Nicaragua',\n",
       "  'grc': 'NIC',\n",
       "  'imperitive': '',\n",
       "  'iso2': 'NI',\n",
       "  'iso3': 'NIC',\n",
       "  'isonum': '558',\n",
       "  'linked_country': '',\n",
       "  'modified': ''},\n",
       " {'country': 'Niger',\n",
       "  'euname': 'Niger',\n",
       "  'grc': 'NIE',\n",
       "  'imperitive': '',\n",
       "  'iso2': 'NE',\n",
       "  'iso3': 'NER',\n",
       "  'isonum': '562',\n",
       "  'linked_country': '',\n",
       "  'modified': ''},\n",
       " {'country': 'Nigeria',\n",
       "  'euname': 'Nigeria',\n",
       "  'grc': 'NIG',\n",
       "  'imperitive': '',\n",
       "  'iso2': 'NG',\n",
       "  'iso3': 'NGA',\n",
       "  'isonum': '566',\n",
       "  'linked_country': '',\n",
       "  'modified': ''},\n",
       " {'country': 'Niue',\n",
       "  'euname': 'NIUE',\n",
       "  'grc': 'NIU',\n",
       "  'imperitive': '',\n",
       "  'iso2': 'NU',\n",
       "  'iso3': 'NIU',\n",
       "  'isonum': '570',\n",
       "  'linked_country': '',\n",
       "  'modified': ''},\n",
       " {'country': 'Norfolk Island',\n",
       "  'euname': '',\n",
       "  'grc': 'NOF',\n",
       "  'imperitive': 'Geographical; Telephone',\n",
       "  'iso2': 'NF',\n",
       "  'iso3': 'NFK',\n",
       "  'isonum': '574',\n",
       "  'linked_country': 'Australia',\n",
       "  'modified': ''},\n",
       " {'country': 'North Korea',\n",
       "  'euname': \"KOREA, PEOPLE'S DEMOCRATIC REPUBLIC OF\",\n",
       "  'grc': 'NKO',\n",
       "  'imperitive': '',\n",
       "  'iso2': 'KP',\n",
       "  'iso3': 'PRK',\n",
       "  'isonum': '408',\n",
       "  'linked_country': '',\n",
       "  'modified': ''},\n",
       " {'country': 'Northern Cyprus',\n",
       "  'euname': '',\n",
       "  'grc': 'NCY',\n",
       "  'imperitive': 'De Facto; Postal; Currency; Telephone',\n",
       "  'iso2': '',\n",
       "  'iso3': '',\n",
       "  'isonum': '',\n",
       "  'linked_country': 'Cyprus',\n",
       "  'modified': ''},\n",
       " {'country': 'Northern Mariana Islands',\n",
       "  'euname': '',\n",
       "  'grc': 'NMI',\n",
       "  'imperitive': 'Geographical',\n",
       "  'iso2': 'MP',\n",
       "  'iso3': 'MNP',\n",
       "  'isonum': '580',\n",
       "  'linked_country': 'United States of America',\n",
       "  'modified': ''},\n",
       " {'country': 'Norway',\n",
       "  'euname': 'Norway',\n",
       "  'grc': 'NOR',\n",
       "  'imperitive': '',\n",
       "  'iso2': 'NO',\n",
       "  'iso3': 'NOR',\n",
       "  'isonum': '578',\n",
       "  'linked_country': '',\n",
       "  'modified': ''},\n",
       " {'country': 'Oman',\n",
       "  'euname': 'OMAN',\n",
       "  'grc': 'OMA',\n",
       "  'imperitive': '',\n",
       "  'iso2': 'OM',\n",
       "  'iso3': 'OMN',\n",
       "  'isonum': '512',\n",
       "  'linked_country': '',\n",
       "  'modified': ''},\n",
       " {'country': 'Pakistan',\n",
       "  'euname': 'Pakistan',\n",
       "  'grc': 'PAK',\n",
       "  'imperitive': '',\n",
       "  'iso2': 'PK',\n",
       "  'iso3': 'PAK',\n",
       "  'isonum': '586',\n",
       "  'linked_country': '',\n",
       "  'modified': ''},\n",
       " {'country': 'Palau',\n",
       "  'euname': 'PALAU',\n",
       "  'grc': 'PAL',\n",
       "  'imperitive': '',\n",
       "  'iso2': 'PW',\n",
       "  'iso3': 'PLW',\n",
       "  'isonum': '585',\n",
       "  'linked_country': '',\n",
       "  'modified': ''},\n",
       " {'country': 'Palestinian Territories',\n",
       "  'euname': 'PALESTINIAN OCCUPIED TERRITORY',\n",
       "  'grc': 'PLA',\n",
       "  'imperitive': '',\n",
       "  'iso2': 'PS',\n",
       "  'iso3': 'PSE',\n",
       "  'isonum': '275',\n",
       "  'linked_country': 'Israel',\n",
       "  'modified': ''},\n",
       " {'country': 'Panama',\n",
       "  'euname': 'PANAMA',\n",
       "  'grc': 'PAN',\n",
       "  'imperitive': '',\n",
       "  'iso2': 'PA',\n",
       "  'iso3': 'PAN',\n",
       "  'isonum': '591',\n",
       "  'linked_country': '',\n",
       "  'modified': ''},\n",
       " {'country': 'Papua New Guinea',\n",
       "  'euname': 'PAPUA NEW GUINEA',\n",
       "  'grc': 'PAP',\n",
       "  'imperitive': '',\n",
       "  'iso2': 'PG',\n",
       "  'iso3': 'PNG',\n",
       "  'isonum': '598',\n",
       "  'linked_country': '',\n",
       "  'modified': ''},\n",
       " {'country': 'Paraguay',\n",
       "  'euname': 'PARAGUAY',\n",
       "  'grc': 'PAR',\n",
       "  'imperitive': '',\n",
       "  'iso2': 'PY',\n",
       "  'iso3': 'PRY',\n",
       "  'isonum': '600',\n",
       "  'linked_country': '',\n",
       "  'modified': ''},\n",
       " {'country': 'Peru',\n",
       "  'euname': 'PERU',\n",
       "  'grc': 'PER',\n",
       "  'imperitive': '',\n",
       "  'iso2': 'PE',\n",
       "  'iso3': 'PER',\n",
       "  'isonum': '604',\n",
       "  'linked_country': '',\n",
       "  'modified': ''},\n",
       " {'country': 'Philippines',\n",
       "  'euname': 'Philippines',\n",
       "  'grc': 'PHI',\n",
       "  'imperitive': '',\n",
       "  'iso2': 'PH',\n",
       "  'iso3': 'PHL',\n",
       "  'isonum': '608',\n",
       "  'linked_country': '',\n",
       "  'modified': ''},\n",
       " {'country': 'Pitcairn Islands',\n",
       "  'euname': '',\n",
       "  'grc': 'PIT',\n",
       "  'imperitive': 'Geographical; Postal; Currency; Telephone',\n",
       "  'iso2': 'PN',\n",
       "  'iso3': 'PCN',\n",
       "  'isonum': '612',\n",
       "  'linked_country': 'United Kingdom',\n",
       "  'modified': ''},\n",
       " {'country': 'Poland',\n",
       "  'euname': 'Poland',\n",
       "  'grc': 'POL',\n",
       "  'imperitive': '',\n",
       "  'iso2': 'PL',\n",
       "  'iso3': 'POL',\n",
       "  'isonum': '616',\n",
       "  'linked_country': '',\n",
       "  'modified': ''},\n",
       " {'country': 'Portugal',\n",
       "  'euname': 'Portugal',\n",
       "  'grc': 'POR',\n",
       "  'imperitive': '',\n",
       "  'iso2': 'PT',\n",
       "  'iso3': 'PRT',\n",
       "  'isonum': '620',\n",
       "  'linked_country': '',\n",
       "  'modified': ''},\n",
       " {'country': 'Puerto Rico',\n",
       "  'euname': 'PUERTO RICO',\n",
       "  'grc': 'PUE',\n",
       "  'imperitive': 'Geographical',\n",
       "  'iso2': 'PR',\n",
       "  'iso3': 'PRI',\n",
       "  'isonum': '630',\n",
       "  'linked_country': 'United States',\n",
       "  'modified': ''},\n",
       " {'country': 'Puntland',\n",
       "  'euname': '',\n",
       "  'grc': 'PUN',\n",
       "  'imperitive': 'De Facto',\n",
       "  'iso2': '',\n",
       "  'iso3': '',\n",
       "  'isonum': '',\n",
       "  'linked_country': 'Somalia',\n",
       "  'modified': ''},\n",
       " {'country': 'Qatar',\n",
       "  'euname': 'QATAR',\n",
       "  'grc': 'QAT',\n",
       "  'imperitive': '',\n",
       "  'iso2': 'QA',\n",
       "  'iso3': 'QAT',\n",
       "  'isonum': '634',\n",
       "  'linked_country': '',\n",
       "  'modified': ''},\n",
       " {'country': 'Romania',\n",
       "  'euname': 'Romania',\n",
       "  'grc': 'ROM',\n",
       "  'imperitive': '',\n",
       "  'iso2': 'RO',\n",
       "  'iso3': 'ROU',\n",
       "  'isonum': '642',\n",
       "  'linked_country': '',\n",
       "  'modified': ''},\n",
       " {'country': 'Russia',\n",
       "  'euname': 'RUSSIA, FEDERATION OF',\n",
       "  'grc': 'RUS',\n",
       "  'imperitive': '',\n",
       "  'iso2': 'RU',\n",
       "  'iso3': 'RUS',\n",
       "  'isonum': '643',\n",
       "  'linked_country': '',\n",
       "  'modified': ''},\n",
       " {'country': 'Rwanda',\n",
       "  'euname': 'RUANDA',\n",
       "  'grc': 'RWA',\n",
       "  'imperitive': '',\n",
       "  'iso2': 'RW',\n",
       "  'iso3': 'RWA',\n",
       "  'isonum': '646',\n",
       "  'linked_country': '',\n",
       "  'modified': ''},\n",
       " {'country': 'RÃ©union',\n",
       "  'euname': 'REUNION',\n",
       "  'grc': 'REU',\n",
       "  'imperitive': 'Geographical; Postal; Currency; Telephone',\n",
       "  'iso2': 'RE',\n",
       "  'iso3': 'REU',\n",
       "  'isonum': '638',\n",
       "  'linked_country': 'France',\n",
       "  'modified': ''},\n",
       " {'country': 'Saba',\n",
       "  'euname': '',\n",
       "  'grc': 'SAB',\n",
       "  'imperitive': 'Geographical; Postal; Currency; Telephone',\n",
       "  'iso2': 'BQ',\n",
       "  'iso3': 'BES',\n",
       "  'isonum': '535',\n",
       "  'linked_country': 'The Netherlands',\n",
       "  'modified': 'ISO codes added 28th Dec. 2010'},\n",
       " {'country': 'Saint BarthÃ©lemy',\n",
       "  'euname': '',\n",
       "  'grc': 'STB',\n",
       "  'imperitive': 'Geographical; Postal; Currency; Telephone',\n",
       "  'iso2': 'BL',\n",
       "  'iso3': 'BLM',\n",
       "  'isonum': '652',\n",
       "  'linked_country': 'France',\n",
       "  'modified': ''},\n",
       " {'country': 'Saint Christopher & Nevis',\n",
       "  'euname': 'SAINT KITTS AND NEVIS',\n",
       "  'grc': 'STC',\n",
       "  'imperitive': '',\n",
       "  'iso2': 'KN',\n",
       "  'iso3': 'KNA',\n",
       "  'isonum': '659',\n",
       "  'linked_country': '',\n",
       "  'modified': ''},\n",
       " {'country': 'Saint Helena',\n",
       "  'euname': '',\n",
       "  'grc': 'STH',\n",
       "  'imperitive': 'Geographical; Postal; Currency; Telephone',\n",
       "  'iso2': 'SH',\n",
       "  'iso3': 'SHN',\n",
       "  'isonum': '654',\n",
       "  'linked_country': 'United Kingdom',\n",
       "  'modified': ''},\n",
       " {'country': 'Saint Lucia',\n",
       "  'euname': 'SAINT LUCIA',\n",
       "  'grc': 'STL',\n",
       "  'imperitive': '',\n",
       "  'iso2': 'LC',\n",
       "  'iso3': 'LCA',\n",
       "  'isonum': '662',\n",
       "  'linked_country': '',\n",
       "  'modified': ''},\n",
       " {'country': 'Saint Martin',\n",
       "  'euname': '',\n",
       "  'grc': 'STM',\n",
       "  'imperitive': 'Geographical; Postal; Currency; Telephone',\n",
       "  'iso2': 'MF',\n",
       "  'iso3': 'MAF',\n",
       "  'isonum': '663',\n",
       "  'linked_country': 'France',\n",
       "  'modified': ''},\n",
       " {'country': 'Saint Pierre & Miquelon',\n",
       "  'euname': '',\n",
       "  'grc': 'SPM',\n",
       "  'imperitive': 'Geographical; Postal; Currency; Telephone',\n",
       "  'iso2': 'PM',\n",
       "  'iso3': 'SPM',\n",
       "  'isonum': '666',\n",
       "  'linked_country': 'France',\n",
       "  'modified': ''},\n",
       " {'country': 'Saint Vincent & The Grenadines',\n",
       "  'euname': 'SAINT VINCENT AND THE GRENADINES',\n",
       "  'grc': 'STV',\n",
       "  'imperitive': '',\n",
       "  'iso2': 'VC',\n",
       "  'iso3': 'VCT',\n",
       "  'isonum': '670',\n",
       "  'linked_country': '',\n",
       "  'modified': ''},\n",
       " {'country': 'Samoa',\n",
       "  'euname': 'SAMOA',\n",
       "  'grc': 'WSM',\n",
       "  'imperitive': '',\n",
       "  'iso2': 'WS',\n",
       "  'iso3': 'WSM',\n",
       "  'isonum': '882',\n",
       "  'linked_country': '',\n",
       "  'modified': ''},\n",
       " {'country': 'San Marino',\n",
       "  'euname': 'SAINT MARINO',\n",
       "  'grc': 'SAN',\n",
       "  'imperitive': '',\n",
       "  'iso2': 'SM',\n",
       "  'iso3': 'SMR',\n",
       "  'isonum': '674',\n",
       "  'linked_country': '',\n",
       "  'modified': ''},\n",
       " {'country': 'Sao Tome & Principe',\n",
       "  'euname': 'SAO TOME AND PRINCIPE',\n",
       "  'grc': 'SAO',\n",
       "  'imperitive': '',\n",
       "  'iso2': 'ST',\n",
       "  'iso3': 'STP',\n",
       "  'isonum': '678',\n",
       "  'linked_country': '',\n",
       "  'modified': ''},\n",
       " {'country': 'Saudi Arabia',\n",
       "  'euname': 'SUADI ARABIA',\n",
       "  'grc': 'SAU',\n",
       "  'imperitive': '',\n",
       "  'iso2': 'SA',\n",
       "  'iso3': 'SAU',\n",
       "  'isonum': '682',\n",
       "  'linked_country': '',\n",
       "  'modified': ''},\n",
       " {'country': 'Senegal',\n",
       "  'euname': 'Senegal',\n",
       "  'grc': 'SEN',\n",
       "  'imperitive': '',\n",
       "  'iso2': 'SN',\n",
       "  'iso3': 'SEN',\n",
       "  'isonum': '686',\n",
       "  'linked_country': '',\n",
       "  'modified': ''},\n",
       " {'country': 'Serbia',\n",
       "  'euname': 'Serbia',\n",
       "  'grc': 'YUG',\n",
       "  'imperitive': '',\n",
       "  'iso2': 'RS',\n",
       "  'iso3': 'SRB',\n",
       "  'isonum': '688',\n",
       "  'linked_country': '',\n",
       "  'modified': ''},\n",
       " {'country': 'Seychelles',\n",
       "  'euname': 'SEYCHELLES',\n",
       "  'grc': 'SEY',\n",
       "  'imperitive': '',\n",
       "  'iso2': 'SC',\n",
       "  'iso3': 'SYC',\n",
       "  'isonum': '690',\n",
       "  'linked_country': '',\n",
       "  'modified': ''},\n",
       " {'country': 'Sierra Leone',\n",
       "  'euname': 'SIERRA LEONE',\n",
       "  'grc': 'SIE',\n",
       "  'imperitive': '',\n",
       "  'iso2': 'SL',\n",
       "  'iso3': 'SLE',\n",
       "  'isonum': '694',\n",
       "  'linked_country': '',\n",
       "  'modified': ''},\n",
       " {'country': 'Singapore',\n",
       "  'euname': 'SINGAPORE',\n",
       "  'grc': 'SIN',\n",
       "  'imperitive': '',\n",
       "  'iso2': 'SG',\n",
       "  'iso3': 'SGP',\n",
       "  'isonum': '702',\n",
       "  'linked_country': '',\n",
       "  'modified': ''},\n",
       " {'country': 'Sint Eustatius',\n",
       "  'euname': '',\n",
       "  'grc': 'STE',\n",
       "  'imperitive': 'Geographical; Postal; Currency; Telephone',\n",
       "  'iso2': 'BQ',\n",
       "  'iso3': 'BES',\n",
       "  'isonum': '535',\n",
       "  'linked_country': 'The Netherlands',\n",
       "  'modified': 'ISO codes added 28th Dec. 2010'},\n",
       " {'country': 'Sint Maarten',\n",
       "  'euname': '',\n",
       "  'grc': 'SMA',\n",
       "  'imperitive': 'Geographical; Postal; Currency; Telephone',\n",
       "  'iso2': 'SX',\n",
       "  'iso3': 'SXM',\n",
       "  'isonum': '534',\n",
       "  'linked_country': 'The Netherlands',\n",
       "  'modified': 'ISO codes added 28th Dec. 2010'},\n",
       " {'country': 'Slovakia',\n",
       "  'euname': 'Slovakia',\n",
       "  'grc': 'SLO',\n",
       "  'imperitive': '',\n",
       "  'iso2': 'SK',\n",
       "  'iso3': 'SVK',\n",
       "  'isonum': '703',\n",
       "  'linked_country': '',\n",
       "  'modified': ''},\n",
       " {'country': 'Slovenia',\n",
       "  'euname': 'Slovenia',\n",
       "  'grc': 'SLV',\n",
       "  'imperitive': '',\n",
       "  'iso2': 'SI',\n",
       "  'iso3': 'SVN',\n",
       "  'isonum': '705',\n",
       "  'linked_country': '',\n",
       "  'modified': ''},\n",
       " {'country': 'Solomon Islands',\n",
       "  'euname': 'SOLOMON ISLANDS',\n",
       "  'grc': 'SOL',\n",
       "  'imperitive': '',\n",
       "  'iso2': 'SB',\n",
       "  'iso3': 'SLB',\n",
       "  'isonum': '090',\n",
       "  'linked_country': '',\n",
       "  'modified': ''},\n",
       " {'country': 'Somalia',\n",
       "  'euname': 'SOMALIA',\n",
       "  'grc': 'SOM',\n",
       "  'imperitive': '',\n",
       "  'iso2': 'SO',\n",
       "  'iso3': 'SOM',\n",
       "  'isonum': '706',\n",
       "  'linked_country': '',\n",
       "  'modified': ''},\n",
       " {'country': 'Somaliland',\n",
       "  'euname': '',\n",
       "  'grc': 'SOA',\n",
       "  'imperitive': 'De Facto',\n",
       "  'iso2': 'SO',\n",
       "  'iso3': 'SOM',\n",
       "  'isonum': '706',\n",
       "  'linked_country': 'Somalia',\n",
       "  'modified': ''},\n",
       " {'country': 'South Africa',\n",
       "  'euname': 'South Africa',\n",
       "  'grc': 'SAF',\n",
       "  'imperitive': '',\n",
       "  'iso2': 'ZA',\n",
       "  'iso3': 'ZAF',\n",
       "  'isonum': '710',\n",
       "  'linked_country': '',\n",
       "  'modified': ''},\n",
       " {'country': 'South Georgia & The South Sandwish Islands',\n",
       "  'euname': '',\n",
       "  'grc': 'SGE',\n",
       "  'imperitive': 'Geographical; Postal; Currency; Telephone',\n",
       "  'iso2': 'GS',\n",
       "  'iso3': 'SGS',\n",
       "  'isonum': '239',\n",
       "  'linked_country': 'United Kingdom',\n",
       "  'modified': ''},\n",
       " {'country': 'South Korea',\n",
       "  'euname': 'KOREA, REPUBLIC OF',\n",
       "  'grc': 'SKO',\n",
       "  'imperitive': '',\n",
       "  'iso2': 'KR',\n",
       "  'iso3': 'KOR',\n",
       "  'isonum': '418',\n",
       "  'linked_country': '',\n",
       "  'modified': ''},\n",
       " {'country': 'South Ossetia',\n",
       "  'euname': '',\n",
       "  'grc': 'SOS',\n",
       "  'imperitive': 'De Facto; Currency',\n",
       "  'iso2': '',\n",
       "  'iso3': '',\n",
       "  'isonum': '',\n",
       "  'linked_country': 'Georgia',\n",
       "  'modified': ''},\n",
       " {'country': 'South Sudan',\n",
       "  'euname': 'SOUTH SUDAN',\n",
       "  'grc': 'SSU',\n",
       "  'imperitive': '',\n",
       "  'iso2': 'SS',\n",
       "  'iso3': 'SSD',\n",
       "  'isonum': '',\n",
       "  'linked_country': '',\n",
       "  'modified': 'Added 22nd February 2011. ISO codes added 18th August 2011.'},\n",
       " {'country': 'Spain',\n",
       "  'euname': 'Spain',\n",
       "  'grc': 'SPA',\n",
       "  'imperitive': '',\n",
       "  'iso2': 'ES',\n",
       "  'iso3': 'ESP',\n",
       "  'isonum': '724',\n",
       "  'linked_country': '',\n",
       "  'modified': ''},\n",
       " {'country': 'Sri Lanka',\n",
       "  'euname': 'SRI LANKA',\n",
       "  'grc': 'SRI',\n",
       "  'imperitive': '',\n",
       "  'iso2': 'LK',\n",
       "  'iso3': 'LKA',\n",
       "  'isonum': '144',\n",
       "  'linked_country': '',\n",
       "  'modified': ''},\n",
       " {'country': 'Sudan',\n",
       "  'euname': 'Sudan',\n",
       "  'grc': 'SUD',\n",
       "  'imperitive': '',\n",
       "  'iso2': 'SD',\n",
       "  'iso3': 'SDN',\n",
       "  'isonum': '736',\n",
       "  'linked_country': '',\n",
       "  'modified': ''},\n",
       " {'country': 'Suriname',\n",
       "  'euname': 'SURINAM',\n",
       "  'grc': 'SUR',\n",
       "  'imperitive': '',\n",
       "  'iso2': 'SR',\n",
       "  'iso3': 'SUR',\n",
       "  'isonum': '740',\n",
       "  'linked_country': '',\n",
       "  'modified': ''},\n",
       " {'country': 'Swaziland',\n",
       "  'euname': 'SWAZILAND',\n",
       "  'grc': 'SWA',\n",
       "  'imperitive': '',\n",
       "  'iso2': 'SZ',\n",
       "  'iso3': 'SWZ',\n",
       "  'isonum': '748',\n",
       "  'linked_country': '',\n",
       "  'modified': ''},\n",
       " {'country': 'Sweden',\n",
       "  'euname': 'Sweden',\n",
       "  'grc': 'SWE',\n",
       "  'imperitive': '',\n",
       "  'iso2': 'SE',\n",
       "  'iso3': 'SWE',\n",
       "  'isonum': '752',\n",
       "  'linked_country': '',\n",
       "  'modified': ''},\n",
       " {'country': 'Switzerland',\n",
       "  'euname': 'Switzerland',\n",
       "  'grc': 'SWI',\n",
       "  'imperitive': '',\n",
       "  'iso2': 'CH',\n",
       "  'iso3': 'CHE',\n",
       "  'isonum': '756',\n",
       "  'linked_country': '',\n",
       "  'modified': ''},\n",
       " {'country': 'Syria',\n",
       "  'euname': 'SYRIA, ARAB REPUBLIC',\n",
       "  'grc': 'SYR',\n",
       "  'imperitive': '',\n",
       "  'iso2': 'SY',\n",
       "  'iso3': 'SYR',\n",
       "  'isonum': '760',\n",
       "  'linked_country': '',\n",
       "  'modified': ''},\n",
       " {'country': 'Taiwan',\n",
       "  'euname': 'TAIWAN',\n",
       "  'grc': 'TAI',\n",
       "  'imperitive': '',\n",
       "  'iso2': 'TW',\n",
       "  'iso3': 'TWN',\n",
       "  'isonum': '158',\n",
       "  'linked_country': 'China',\n",
       "  'modified': ''},\n",
       " {'country': 'Tajikistan',\n",
       "  'euname': 'TAJIKISTAN',\n",
       "  'grc': 'TAJ',\n",
       "  'imperitive': '',\n",
       "  'iso2': 'TJ',\n",
       "  'iso3': 'TJK',\n",
       "  'isonum': '762',\n",
       "  'linked_country': '',\n",
       "  'modified': ''},\n",
       " {'country': 'Tanzania',\n",
       "  'euname': 'TANZANIA, UNITED RE UBLIC OF',\n",
       "  'grc': 'TAN',\n",
       "  'imperitive': '',\n",
       "  'iso2': 'TZ',\n",
       "  'iso3': 'TZA',\n",
       "  'isonum': '834',\n",
       "  'linked_country': '',\n",
       "  'modified': ''},\n",
       " {'country': 'Thailand',\n",
       "  'euname': 'THAILAND',\n",
       "  'grc': 'THA',\n",
       "  'imperitive': '',\n",
       "  'iso2': 'TH',\n",
       "  'iso3': 'THA',\n",
       "  'isonum': '764',\n",
       "  'linked_country': '',\n",
       "  'modified': ''},\n",
       " {'country': 'Togo',\n",
       "  'euname': 'TOGO',\n",
       "  'grc': 'TOG',\n",
       "  'imperitive': '',\n",
       "  'iso2': 'TG',\n",
       "  'iso3': 'TGO',\n",
       "  'isonum': '768',\n",
       "  'linked_country': '',\n",
       "  'modified': ''},\n",
       " {'country': 'Tokelau',\n",
       "  'euname': '',\n",
       "  'grc': 'TOK',\n",
       "  'imperitive': 'Geographical; Postal; Telephone',\n",
       "  'iso2': 'TK',\n",
       "  'iso3': 'TKL',\n",
       "  'isonum': '772',\n",
       "  'linked_country': 'New Zealand',\n",
       "  'modified': ''},\n",
       " {'country': 'Tonga',\n",
       "  'euname': 'TONGA',\n",
       "  'grc': 'TON',\n",
       "  'imperitive': '',\n",
       "  'iso2': 'TO',\n",
       "  'iso3': 'TON',\n",
       "  'isonum': '776',\n",
       "  'linked_country': '',\n",
       "  'modified': ''},\n",
       " {'country': 'Transdniestria',\n",
       "  'euname': '',\n",
       "  'grc': 'TRA',\n",
       "  'imperitive': 'De Facto',\n",
       "  'iso2': '',\n",
       "  'iso3': '',\n",
       "  'isonum': '',\n",
       "  'linked_country': 'Moldova',\n",
       "  'modified': ''},\n",
       " {'country': 'Trinidad & Tobago',\n",
       "  'euname': 'TRINIDAD AND TOBAGO',\n",
       "  'grc': 'TRI',\n",
       "  'imperitive': '',\n",
       "  'iso2': 'TT',\n",
       "  'iso3': 'TTO',\n",
       "  'isonum': '780',\n",
       "  'linked_country': '',\n",
       "  'modified': ''},\n",
       " {'country': 'Tunisia',\n",
       "  'euname': 'Tunisia',\n",
       "  'grc': 'TUN',\n",
       "  'imperitive': '',\n",
       "  'iso2': 'TN',\n",
       "  'iso3': 'TUN',\n",
       "  'isonum': '788',\n",
       "  'linked_country': '',\n",
       "  'modified': ''},\n",
       " {'country': 'Turkey',\n",
       "  'euname': 'Turkey',\n",
       "  'grc': 'TUR',\n",
       "  'imperitive': '',\n",
       "  'iso2': 'TR',\n",
       "  'iso3': 'TUR',\n",
       "  'isonum': '792',\n",
       "  'linked_country': '',\n",
       "  'modified': ''},\n",
       " {'country': 'Turkmenistan',\n",
       "  'euname': 'TURKMENISTAN',\n",
       "  'grc': 'TUK',\n",
       "  'imperitive': '',\n",
       "  'iso2': 'TM',\n",
       "  'iso3': 'TKM',\n",
       "  'isonum': '795',\n",
       "  'linked_country': '',\n",
       "  'modified': ''},\n",
       " {'country': 'Turks & Caicos Islands',\n",
       "  'euname': '',\n",
       "  'grc': 'TUC',\n",
       "  'imperitive': 'Geographical; Postal; Currency; Telephone',\n",
       "  'iso2': 'TC',\n",
       "  'iso3': 'TCA',\n",
       "  'isonum': '796',\n",
       "  'linked_country': 'United Kingdom',\n",
       "  'modified': ''},\n",
       " {'country': 'Tuvalu',\n",
       "  'euname': 'TUVALU',\n",
       "  'grc': 'TUV',\n",
       "  'imperitive': '',\n",
       "  'iso2': 'TV',\n",
       "  'iso3': 'TUV',\n",
       "  'isonum': '798',\n",
       "  'linked_country': '',\n",
       "  'modified': ''},\n",
       " {'country': 'Uganda',\n",
       "  'euname': 'Uganda',\n",
       "  'grc': 'UGA',\n",
       "  'imperitive': '',\n",
       "  'iso2': 'UG',\n",
       "  'iso3': 'UGA',\n",
       "  'isonum': '800',\n",
       "  'linked_country': '',\n",
       "  'modified': ''},\n",
       " {'country': 'Ukraine',\n",
       "  'euname': 'Ukraine',\n",
       "  'grc': 'UKR',\n",
       "  'imperitive': '',\n",
       "  'iso2': 'UA',\n",
       "  'iso3': 'UKR',\n",
       "  'isonum': '804',\n",
       "  'linked_country': '',\n",
       "  'modified': ''},\n",
       " {'country': 'United Arab Emirates',\n",
       "  'euname': 'United Arab Emirates',\n",
       "  'grc': 'UAE',\n",
       "  'imperitive': '',\n",
       "  'iso2': 'AE',\n",
       "  'iso3': 'ARE',\n",
       "  'isonum': '784',\n",
       "  'linked_country': '',\n",
       "  'modified': ''},\n",
       " {'country': 'United Kingdom',\n",
       "  'euname': 'United Kingdom',\n",
       "  'grc': 'UNI',\n",
       "  'imperitive': '',\n",
       "  'iso2': 'GB',\n",
       "  'iso3': 'GBR',\n",
       "  'isonum': '826',\n",
       "  'linked_country': '',\n",
       "  'modified': ''},\n",
       " {'country': 'United States',\n",
       "  'euname': 'United States',\n",
       "  'grc': 'USA',\n",
       "  'imperitive': '',\n",
       "  'iso2': 'US',\n",
       "  'iso3': 'USA',\n",
       "  'isonum': '840',\n",
       "  'linked_country': '',\n",
       "  'modified': ''},\n",
       " {'country': 'United States Virgin Islands',\n",
       "  'euname': 'US VIRGIN ISLANDS',\n",
       "  'grc': 'VIR',\n",
       "  'imperitive': 'Geographical',\n",
       "  'iso2': 'VI',\n",
       "  'iso3': 'VIR',\n",
       "  'isonum': '850',\n",
       "  'linked_country': 'United States of America',\n",
       "  'modified': ''},\n",
       " {'country': 'Uruguay',\n",
       "  'euname': 'URUGUAY',\n",
       "  'grc': 'URU',\n",
       "  'imperitive': '',\n",
       "  'iso2': 'UY',\n",
       "  'iso3': 'URY',\n",
       "  'isonum': '858',\n",
       "  'linked_country': '',\n",
       "  'modified': ''},\n",
       " {'country': 'Uzbekistan',\n",
       "  'euname': 'UZBEKISTAN',\n",
       "  'grc': 'UZB',\n",
       "  'imperitive': '',\n",
       "  'iso2': 'UZ',\n",
       "  'iso3': 'UZB',\n",
       "  'isonum': '860',\n",
       "  'linked_country': '',\n",
       "  'modified': ''},\n",
       " {'country': 'Vanuatu',\n",
       "  'euname': 'VANUATU',\n",
       "  'grc': 'VAN',\n",
       "  'imperitive': '',\n",
       "  'iso2': 'VU',\n",
       "  'iso3': 'VUT',\n",
       "  'isonum': '548',\n",
       "  'linked_country': '',\n",
       "  'modified': ''},\n",
       " {'country': 'Venezuela',\n",
       "  'euname': 'VENEZUELA',\n",
       "  'grc': 'VEN',\n",
       "  'imperitive': '',\n",
       "  'iso2': 'VE',\n",
       "  'iso3': 'VEN',\n",
       "  'isonum': '862',\n",
       "  'linked_country': '',\n",
       "  'modified': ''},\n",
       " {'country': 'Vietnam',\n",
       "  'euname': 'VIETNAM',\n",
       "  'grc': 'VIE',\n",
       "  'imperitive': '',\n",
       "  'iso2': 'VN',\n",
       "  'iso3': 'VNM',\n",
       "  'isonum': '704',\n",
       "  'linked_country': '',\n",
       "  'modified': ''},\n",
       " {'country': 'Wallis & Futuna',\n",
       "  'euname': '',\n",
       "  'grc': 'WAL',\n",
       "  'imperitive': 'Geographical; Postal; Currency; Telephone',\n",
       "  'iso2': 'WF',\n",
       "  'iso3': 'WLF',\n",
       "  'isonum': '876',\n",
       "  'linked_country': 'France',\n",
       "  'modified': ''},\n",
       " {'country': 'Western Sahara',\n",
       "  'euname': 'WESTERN SAHARA',\n",
       "  'grc': 'WSA',\n",
       "  'imperitive': 'Political',\n",
       "  'iso2': 'EH',\n",
       "  'iso3': 'ESH',\n",
       "  'isonum': '732',\n",
       "  'linked_country': 'Morocco',\n",
       "  'modified': ''},\n",
       " {'country': 'Yemen',\n",
       "  'euname': 'Yemen',\n",
       "  'grc': 'YEM',\n",
       "  'imperitive': '',\n",
       "  'iso2': 'YE',\n",
       "  'iso3': 'YEM',\n",
       "  'isonum': '887',\n",
       "  'linked_country': '',\n",
       "  'modified': ''},\n",
       " {'country': 'Zambia',\n",
       "  'euname': 'ZAMBIA',\n",
       "  'grc': 'ZAM',\n",
       "  'imperitive': '',\n",
       "  'iso2': 'ZM',\n",
       "  'iso3': 'ZMB',\n",
       "  'isonum': '894',\n",
       "  'linked_country': '',\n",
       "  'modified': ''},\n",
       " {'country': 'Zimbabwe',\n",
       "  'euname': 'ZIMBABWE',\n",
       "  'grc': 'ZIM',\n",
       "  'imperitive': '',\n",
       "  'iso2': 'ZW',\n",
       "  'iso3': 'ZWE',\n",
       "  'isonum': '716',\n",
       "  'linked_country': '',\n",
       "  'modified': ''}]"
      ]
     },
     "execution_count": 28,
     "metadata": {},
     "output_type": "execute_result"
    }
   ],
   "source": [
    "lst"
   ]
  },
  {
   "cell_type": "code",
   "execution_count": 32,
   "metadata": {
    "collapsed": false
   },
   "outputs": [],
   "source": [
    "for item in lst:\n",
    "    if item['iso3'] != '':\n",
    "        country.append((item['iso3'] , item['country']))"
   ]
  },
  {
   "cell_type": "code",
   "execution_count": 33,
   "metadata": {
    "collapsed": false
   },
   "outputs": [
    {
     "data": {
      "text/plain": [
       "[('AFG', 'Afganistan'),\n",
       " ('ALA', 'Ã…land Islands'),\n",
       " ('ALB', 'Albania'),\n",
       " ('DZA', 'Algeria'),\n",
       " ('ASM', 'American Samoa'),\n",
       " ('AND', 'Andorra'),\n",
       " ('AGO', 'Angola'),\n",
       " ('AIA', 'Anguilla'),\n",
       " ('ATG', 'Antigua & Barbuda'),\n",
       " ('ARG', 'Argentina'),\n",
       " ('ARM', 'Armenia'),\n",
       " ('ABW', 'Aruba'),\n",
       " ('AUS', 'Australia'),\n",
       " ('AUT', 'Austria'),\n",
       " ('AZE', 'Azerbaijan'),\n",
       " ('BHS', 'Bahamas'),\n",
       " ('BHR', 'Bahrain'),\n",
       " ('BGD', 'Bangladesh'),\n",
       " ('BRB', 'Barbados'),\n",
       " ('BLR', 'Belarus'),\n",
       " ('BEL', 'Belgium'),\n",
       " ('BLZ', 'Belize'),\n",
       " ('BEN', 'Benin'),\n",
       " ('BMU', 'Bermuda'),\n",
       " ('BTN', 'Bhutan'),\n",
       " ('BOL', 'Bolivia'),\n",
       " ('BES', 'Bonaire'),\n",
       " ('BIH', 'Bosnia-Herzegovina'),\n",
       " ('BWA', 'Botswana'),\n",
       " ('BRA', 'Brazil'),\n",
       " ('IOT', 'British Indian Ocean Territory'),\n",
       " ('VGB', 'British Virgin Islands'),\n",
       " ('BRN', 'Brunei Darussalam'),\n",
       " ('BGR', 'Bulgaria'),\n",
       " ('BFA', 'Burkina Faso'),\n",
       " ('BDI', 'Burundi'),\n",
       " ('KHM', 'Cambodia'),\n",
       " ('CMR', 'Cameroon'),\n",
       " ('CAN', 'Canada'),\n",
       " ('CPV', 'Cape Verde Islands'),\n",
       " ('CYM', 'Cayman Islands'),\n",
       " ('CAF', 'Central African Republic'),\n",
       " ('TCD', 'Chad'),\n",
       " ('CHL', 'Chile'),\n",
       " ('CHN', 'China'),\n",
       " ('CXR', 'Christmas Island'),\n",
       " ('CCK', 'Cocos (Keeling) Islands'),\n",
       " ('COL', 'Colombia'),\n",
       " ('COM', 'Comoros'),\n",
       " ('COG', 'Congo (Brazzaville)'),\n",
       " ('ZAR', 'Congo (Kinshasa)'),\n",
       " ('COK', 'Cook Islands'),\n",
       " ('CRI', 'Costa Rica'),\n",
       " ('HRV', 'Croatia'),\n",
       " ('CUB', 'Cuba'),\n",
       " ('CUW', 'CuraÃ§ao'),\n",
       " ('CYP', 'Cyprus'),\n",
       " ('CZE', 'Czech Republic'),\n",
       " ('DNK', 'Denmark'),\n",
       " ('DJI', 'Djibouti'),\n",
       " ('DMA', 'Dominica'),\n",
       " ('DOM', 'Dominican Republic'),\n",
       " ('TLS', 'East Timor'),\n",
       " ('ECU', 'Ecuador'),\n",
       " ('EGY', 'Egypt'),\n",
       " ('SLV', 'El Salvador'),\n",
       " ('GNQ', 'Equatorial Guinea'),\n",
       " ('ERI', 'Eritrea'),\n",
       " ('EST', 'Estonia'),\n",
       " ('ETH', 'Ethiopia'),\n",
       " ('FRO', 'Faeroe Islands'),\n",
       " ('FLK', 'Falkland Islands'),\n",
       " ('FJI', 'Fiji'),\n",
       " ('FIN', 'Finland'),\n",
       " ('FRA', 'France'),\n",
       " ('GUF', 'French Guiana'),\n",
       " ('PYF', 'French Polynesia'),\n",
       " ('ATF', 'French Southern Territories'),\n",
       " ('GAB', 'Gabon'),\n",
       " ('GMB', 'Gambia'),\n",
       " ('GEO', 'Georgia'),\n",
       " ('DEU', 'Germany'),\n",
       " ('GHA', 'Ghana'),\n",
       " ('GIB', 'Gibralter'),\n",
       " ('GRC', 'Greece'),\n",
       " ('GRL', 'Greenland'),\n",
       " ('GRD', 'Grenada'),\n",
       " ('GLP', 'Guadeloupe'),\n",
       " ('GUM', 'Guam'),\n",
       " ('GTM', 'Guatemala'),\n",
       " ('GGY', 'Guernsey'),\n",
       " ('GIN', 'Guinea'),\n",
       " ('GNB', 'Guinea-Bissau'),\n",
       " ('GUY', 'Guyana'),\n",
       " ('HTI', 'Haiti'),\n",
       " ('VAT', 'Holy See'),\n",
       " ('HND', 'Honduras'),\n",
       " ('HKG', 'Hong Kong'),\n",
       " ('HUN', 'Hungary'),\n",
       " ('ISL', 'Iceland'),\n",
       " ('IND', 'India'),\n",
       " ('IDN', 'Indonesia'),\n",
       " ('IRN', 'Iran'),\n",
       " ('IRQ', 'Iraq'),\n",
       " ('IRL', 'Ireland'),\n",
       " ('IMN', 'Isle of Man'),\n",
       " ('ISR', 'Israel'),\n",
       " ('ITA', 'Italy'),\n",
       " ('CIV', 'Ivory Coast'),\n",
       " ('JAM', 'Jamaica'),\n",
       " ('JPN', 'Japan'),\n",
       " ('JEY', 'Jersey'),\n",
       " ('JOR', 'Jordan'),\n",
       " ('KAZ', 'Kazakhstan'),\n",
       " ('KEN', 'Kenya'),\n",
       " ('KIR', 'Kiribati'),\n",
       " ('KWT', 'Kuwait'),\n",
       " ('KGZ', 'Kyrgyzstan'),\n",
       " ('LAO', 'Laos'),\n",
       " ('LVA', 'Latvia'),\n",
       " ('LBN', 'Lebanon'),\n",
       " ('LSO', 'Lesotho'),\n",
       " ('LBR', 'Liberia'),\n",
       " ('LBY', 'Libya'),\n",
       " ('LIE', 'Liechtenstein'),\n",
       " ('LTU', 'Lithuania'),\n",
       " ('LUX', 'Luxembourg'),\n",
       " ('MAC', 'Macau'),\n",
       " ('MKD', 'Macedonia'),\n",
       " ('MDG', 'Madagascar'),\n",
       " ('MWI', 'Malawi'),\n",
       " ('MYS', 'Malaysia'),\n",
       " ('MDV', 'Maldives'),\n",
       " ('MLI', 'Mali'),\n",
       " ('MLT', 'Malta'),\n",
       " ('MHL', 'Marshall Islands'),\n",
       " ('MTQ', 'Martinique'),\n",
       " ('MRT', 'Mauritania'),\n",
       " ('MUS', 'Mauritius'),\n",
       " ('MYT', 'Mayotte'),\n",
       " ('MEX', 'Mexico'),\n",
       " ('FSM', 'Micronesia'),\n",
       " ('MDA', 'Moldova'),\n",
       " ('MCO', 'Monaco'),\n",
       " ('MNG', 'Mongolia'),\n",
       " ('MNE', 'Montenegro'),\n",
       " ('MSR', 'Montserrat'),\n",
       " ('MAR', 'Morocco'),\n",
       " ('MOZ', 'Mozambique'),\n",
       " ('MMR', 'Myanmar'),\n",
       " ('NAM', 'Namibia'),\n",
       " ('NRU', 'Nauru'),\n",
       " ('NPL', 'Nepal'),\n",
       " ('ANT', 'Netherlands Antilles'),\n",
       " ('NLD', 'Netherlands'),\n",
       " ('NCL', 'New Caledonia'),\n",
       " ('NZL', 'New Zealand'),\n",
       " ('NIC', 'Nicaragua'),\n",
       " ('NER', 'Niger'),\n",
       " ('NGA', 'Nigeria'),\n",
       " ('NIU', 'Niue'),\n",
       " ('NFK', 'Norfolk Island'),\n",
       " ('PRK', 'North Korea'),\n",
       " ('MNP', 'Northern Mariana Islands'),\n",
       " ('NOR', 'Norway'),\n",
       " ('OMN', 'Oman'),\n",
       " ('PAK', 'Pakistan'),\n",
       " ('PLW', 'Palau'),\n",
       " ('PSE', 'Palestinian Territories'),\n",
       " ('PAN', 'Panama'),\n",
       " ('PNG', 'Papua New Guinea'),\n",
       " ('PRY', 'Paraguay'),\n",
       " ('PER', 'Peru'),\n",
       " ('PHL', 'Philippines'),\n",
       " ('PCN', 'Pitcairn Islands'),\n",
       " ('POL', 'Poland'),\n",
       " ('PRT', 'Portugal'),\n",
       " ('PRI', 'Puerto Rico'),\n",
       " ('QAT', 'Qatar'),\n",
       " ('ROU', 'Romania'),\n",
       " ('RUS', 'Russia'),\n",
       " ('RWA', 'Rwanda'),\n",
       " ('REU', 'RÃ©union'),\n",
       " ('BES', 'Saba'),\n",
       " ('BLM', 'Saint BarthÃ©lemy'),\n",
       " ('KNA', 'Saint Christopher & Nevis'),\n",
       " ('SHN', 'Saint Helena'),\n",
       " ('LCA', 'Saint Lucia'),\n",
       " ('MAF', 'Saint Martin'),\n",
       " ('SPM', 'Saint Pierre & Miquelon'),\n",
       " ('VCT', 'Saint Vincent & The Grenadines'),\n",
       " ('WSM', 'Samoa'),\n",
       " ('SMR', 'San Marino'),\n",
       " ('STP', 'Sao Tome & Principe'),\n",
       " ('SAU', 'Saudi Arabia'),\n",
       " ('SEN', 'Senegal'),\n",
       " ('SRB', 'Serbia'),\n",
       " ('SYC', 'Seychelles'),\n",
       " ('SLE', 'Sierra Leone'),\n",
       " ('SGP', 'Singapore'),\n",
       " ('BES', 'Sint Eustatius'),\n",
       " ('SXM', 'Sint Maarten'),\n",
       " ('SVK', 'Slovakia'),\n",
       " ('SVN', 'Slovenia'),\n",
       " ('SLB', 'Solomon Islands'),\n",
       " ('SOM', 'Somalia'),\n",
       " ('SOM', 'Somaliland'),\n",
       " ('ZAF', 'South Africa'),\n",
       " ('SGS', 'South Georgia & The South Sandwish Islands'),\n",
       " ('KOR', 'South Korea'),\n",
       " ('SSD', 'South Sudan'),\n",
       " ('ESP', 'Spain'),\n",
       " ('LKA', 'Sri Lanka'),\n",
       " ('SDN', 'Sudan'),\n",
       " ('SUR', 'Suriname'),\n",
       " ('SWZ', 'Swaziland'),\n",
       " ('SWE', 'Sweden'),\n",
       " ('CHE', 'Switzerland'),\n",
       " ('SYR', 'Syria'),\n",
       " ('TWN', 'Taiwan'),\n",
       " ('TJK', 'Tajikistan'),\n",
       " ('TZA', 'Tanzania'),\n",
       " ('THA', 'Thailand'),\n",
       " ('TGO', 'Togo'),\n",
       " ('TKL', 'Tokelau'),\n",
       " ('TON', 'Tonga'),\n",
       " ('TTO', 'Trinidad & Tobago'),\n",
       " ('TUN', 'Tunisia'),\n",
       " ('TUR', 'Turkey'),\n",
       " ('TKM', 'Turkmenistan'),\n",
       " ('TCA', 'Turks & Caicos Islands'),\n",
       " ('TUV', 'Tuvalu'),\n",
       " ('UGA', 'Uganda'),\n",
       " ('UKR', 'Ukraine'),\n",
       " ('ARE', 'United Arab Emirates'),\n",
       " ('GBR', 'United Kingdom'),\n",
       " ('USA', 'United States'),\n",
       " ('VIR', 'United States Virgin Islands'),\n",
       " ('URY', 'Uruguay'),\n",
       " ('UZB', 'Uzbekistan'),\n",
       " ('VUT', 'Vanuatu'),\n",
       " ('VEN', 'Venezuela'),\n",
       " ('VNM', 'Vietnam'),\n",
       " ('WLF', 'Wallis & Futuna'),\n",
       " ('ESH', 'Western Sahara'),\n",
       " ('YEM', 'Yemen'),\n",
       " ('ZMB', 'Zambia'),\n",
       " ('ZWE', 'Zimbabwe')]"
      ]
     },
     "execution_count": 33,
     "metadata": {},
     "output_type": "execute_result"
    }
   ],
   "source": [
    "country"
   ]
  },
  {
   "cell_type": "code",
   "execution_count": 35,
   "metadata": {
    "collapsed": true
   },
   "outputs": [],
   "source": [
    "import csv\n",
    "fp=open('countrycodes.csv','r')\n",
    "reader=csv.DictReader(fp)\n",
    "lst =list(reader)\n",
    "country= []\n",
    "for item in lst:\n",
    "    if item['iso2'] != '':\n",
    "        country.append((item['iso2'], item['country']))\n",
    "        \n"
   ]
  },
  {
   "cell_type": "code",
   "execution_count": 36,
   "metadata": {
    "collapsed": false
   },
   "outputs": [
    {
     "data": {
      "text/plain": [
       "[('AF', 'Afganistan'),\n",
       " ('AX', 'Ã…land Islands'),\n",
       " ('AL', 'Albania'),\n",
       " ('DZ', 'Algeria'),\n",
       " ('AS', 'American Samoa'),\n",
       " ('AD', 'Andorra'),\n",
       " ('AO', 'Angola'),\n",
       " ('AI', 'Anguilla'),\n",
       " ('AG', 'Antigua & Barbuda'),\n",
       " ('AR', 'Argentina'),\n",
       " ('AM', 'Armenia'),\n",
       " ('AW', 'Aruba'),\n",
       " ('AU', 'Australia'),\n",
       " ('AT', 'Austria'),\n",
       " ('AZ', 'Azerbaijan'),\n",
       " ('BS', 'Bahamas'),\n",
       " ('BH', 'Bahrain'),\n",
       " ('BD', 'Bangladesh'),\n",
       " ('BB', 'Barbados'),\n",
       " ('BY', 'Belarus'),\n",
       " ('BE', 'Belgium'),\n",
       " ('BZ', 'Belize'),\n",
       " ('BJ', 'Benin'),\n",
       " ('BM', 'Bermuda'),\n",
       " ('BT', 'Bhutan'),\n",
       " ('BO', 'Bolivia'),\n",
       " ('BQ', 'Bonaire'),\n",
       " ('BA', 'Bosnia-Herzegovina'),\n",
       " ('BW', 'Botswana'),\n",
       " ('BR', 'Brazil'),\n",
       " ('IO', 'British Indian Ocean Territory'),\n",
       " ('VG', 'British Virgin Islands'),\n",
       " ('BN', 'Brunei Darussalam'),\n",
       " ('BG', 'Bulgaria'),\n",
       " ('BF', 'Burkina Faso'),\n",
       " ('BI', 'Burundi'),\n",
       " ('KH', 'Cambodia'),\n",
       " ('CM', 'Cameroon'),\n",
       " ('CA', 'Canada'),\n",
       " ('CV', 'Cape Verde Islands'),\n",
       " ('KY', 'Cayman Islands'),\n",
       " ('CF', 'Central African Republic'),\n",
       " ('TD', 'Chad'),\n",
       " ('CL', 'Chile'),\n",
       " ('CN', 'China'),\n",
       " ('CX', 'Christmas Island'),\n",
       " ('CC', 'Cocos (Keeling) Islands'),\n",
       " ('CO', 'Colombia'),\n",
       " ('KM', 'Comoros'),\n",
       " ('CG', 'Congo (Brazzaville)'),\n",
       " ('CD', 'Congo (Kinshasa)'),\n",
       " ('CK', 'Cook Islands'),\n",
       " ('CR', 'Costa Rica'),\n",
       " ('HR', 'Croatia'),\n",
       " ('CU', 'Cuba'),\n",
       " ('CW', 'CuraÃ§ao'),\n",
       " ('CY', 'Cyprus'),\n",
       " ('CZ', 'Czech Republic'),\n",
       " ('DK', 'Denmark'),\n",
       " ('DJ', 'Djibouti'),\n",
       " ('DM', 'Dominica'),\n",
       " ('DO', 'Dominican Republic'),\n",
       " ('TL', 'East Timor'),\n",
       " ('EC', 'Ecuador'),\n",
       " ('EG', 'Egypt'),\n",
       " ('SV', 'El Salvador'),\n",
       " ('GQ', 'Equatorial Guinea'),\n",
       " ('ER', 'Eritrea'),\n",
       " ('EE', 'Estonia'),\n",
       " ('ET', 'Ethiopia'),\n",
       " ('FO', 'Faeroe Islands'),\n",
       " ('FK', 'Falkland Islands'),\n",
       " ('FJ', 'Fiji'),\n",
       " ('FI', 'Finland'),\n",
       " ('FR', 'France'),\n",
       " ('GF', 'French Guiana'),\n",
       " ('PF', 'French Polynesia'),\n",
       " ('TF', 'French Southern Territories'),\n",
       " ('GA', 'Gabon'),\n",
       " ('GM', 'Gambia'),\n",
       " ('GE', 'Georgia'),\n",
       " ('DE', 'Germany'),\n",
       " ('GH', 'Ghana'),\n",
       " ('GI', 'Gibralter'),\n",
       " ('GR', 'Greece'),\n",
       " ('GL', 'Greenland'),\n",
       " ('GD', 'Grenada'),\n",
       " ('GP', 'Guadeloupe'),\n",
       " ('GU', 'Guam'),\n",
       " ('GT', 'Guatemala'),\n",
       " ('GG', 'Guernsey'),\n",
       " ('GN', 'Guinea'),\n",
       " ('GW', 'Guinea-Bissau'),\n",
       " ('GY', 'Guyana'),\n",
       " ('HT', 'Haiti'),\n",
       " ('VA', 'Holy See'),\n",
       " ('HN', 'Honduras'),\n",
       " ('HK', 'Hong Kong'),\n",
       " ('HU', 'Hungary'),\n",
       " ('IS', 'Iceland'),\n",
       " ('IN', 'India'),\n",
       " ('ID', 'Indonesia'),\n",
       " ('IR', 'Iran'),\n",
       " ('IQ', 'Iraq'),\n",
       " ('IE', 'Ireland'),\n",
       " ('IM', 'Isle of Man'),\n",
       " ('IL', 'Israel'),\n",
       " ('IT', 'Italy'),\n",
       " ('CI', 'Ivory Coast'),\n",
       " ('JM', 'Jamaica'),\n",
       " ('JP', 'Japan'),\n",
       " ('JE', 'Jersey'),\n",
       " ('JO', 'Jordan'),\n",
       " ('KZ', 'Kazakhstan'),\n",
       " ('KE', 'Kenya'),\n",
       " ('KI', 'Kiribati'),\n",
       " ('KW', 'Kuwait'),\n",
       " ('KG', 'Kyrgyzstan'),\n",
       " ('LA', 'Laos'),\n",
       " ('LV', 'Latvia'),\n",
       " ('LB', 'Lebanon'),\n",
       " ('LS', 'Lesotho'),\n",
       " ('LR', 'Liberia'),\n",
       " ('LY', 'Libya'),\n",
       " ('LI', 'Liechtenstein'),\n",
       " ('LT', 'Lithuania'),\n",
       " ('LU', 'Luxembourg'),\n",
       " ('MO', 'Macau'),\n",
       " ('MK', 'Macedonia'),\n",
       " ('MG', 'Madagascar'),\n",
       " ('MW', 'Malawi'),\n",
       " ('MY', 'Malaysia'),\n",
       " ('MV', 'Maldives'),\n",
       " ('ML', 'Mali'),\n",
       " ('MT', 'Malta'),\n",
       " ('MH', 'Marshall Islands'),\n",
       " ('MQ', 'Martinique'),\n",
       " ('MR', 'Mauritania'),\n",
       " ('MU', 'Mauritius'),\n",
       " ('YT', 'Mayotte'),\n",
       " ('MX', 'Mexico'),\n",
       " ('FM', 'Micronesia'),\n",
       " ('MD', 'Moldova'),\n",
       " ('MC', 'Monaco'),\n",
       " ('MN', 'Mongolia'),\n",
       " ('ME', 'Montenegro'),\n",
       " ('MS', 'Montserrat'),\n",
       " ('MA', 'Morocco'),\n",
       " ('MZ', 'Mozambique'),\n",
       " ('MM', 'Myanmar'),\n",
       " ('NA', 'Namibia'),\n",
       " ('NR', 'Nauru'),\n",
       " ('NP', 'Nepal'),\n",
       " ('AN', 'Netherlands Antilles'),\n",
       " ('NL', 'Netherlands'),\n",
       " ('NC', 'New Caledonia'),\n",
       " ('NZ', 'New Zealand'),\n",
       " ('NI', 'Nicaragua'),\n",
       " ('NE', 'Niger'),\n",
       " ('NG', 'Nigeria'),\n",
       " ('NU', 'Niue'),\n",
       " ('NF', 'Norfolk Island'),\n",
       " ('KP', 'North Korea'),\n",
       " ('MP', 'Northern Mariana Islands'),\n",
       " ('NO', 'Norway'),\n",
       " ('OM', 'Oman'),\n",
       " ('PK', 'Pakistan'),\n",
       " ('PW', 'Palau'),\n",
       " ('PS', 'Palestinian Territories'),\n",
       " ('PA', 'Panama'),\n",
       " ('PG', 'Papua New Guinea'),\n",
       " ('PY', 'Paraguay'),\n",
       " ('PE', 'Peru'),\n",
       " ('PH', 'Philippines'),\n",
       " ('PN', 'Pitcairn Islands'),\n",
       " ('PL', 'Poland'),\n",
       " ('PT', 'Portugal'),\n",
       " ('PR', 'Puerto Rico'),\n",
       " ('QA', 'Qatar'),\n",
       " ('RO', 'Romania'),\n",
       " ('RU', 'Russia'),\n",
       " ('RW', 'Rwanda'),\n",
       " ('RE', 'RÃ©union'),\n",
       " ('BQ', 'Saba'),\n",
       " ('BL', 'Saint BarthÃ©lemy'),\n",
       " ('KN', 'Saint Christopher & Nevis'),\n",
       " ('SH', 'Saint Helena'),\n",
       " ('LC', 'Saint Lucia'),\n",
       " ('MF', 'Saint Martin'),\n",
       " ('PM', 'Saint Pierre & Miquelon'),\n",
       " ('VC', 'Saint Vincent & The Grenadines'),\n",
       " ('WS', 'Samoa'),\n",
       " ('SM', 'San Marino'),\n",
       " ('ST', 'Sao Tome & Principe'),\n",
       " ('SA', 'Saudi Arabia'),\n",
       " ('SN', 'Senegal'),\n",
       " ('RS', 'Serbia'),\n",
       " ('SC', 'Seychelles'),\n",
       " ('SL', 'Sierra Leone'),\n",
       " ('SG', 'Singapore'),\n",
       " ('BQ', 'Sint Eustatius'),\n",
       " ('SX', 'Sint Maarten'),\n",
       " ('SK', 'Slovakia'),\n",
       " ('SI', 'Slovenia'),\n",
       " ('SB', 'Solomon Islands'),\n",
       " ('SO', 'Somalia'),\n",
       " ('SO', 'Somaliland'),\n",
       " ('ZA', 'South Africa'),\n",
       " ('GS', 'South Georgia & The South Sandwish Islands'),\n",
       " ('KR', 'South Korea'),\n",
       " ('SS', 'South Sudan'),\n",
       " ('ES', 'Spain'),\n",
       " ('LK', 'Sri Lanka'),\n",
       " ('SD', 'Sudan'),\n",
       " ('SR', 'Suriname'),\n",
       " ('SZ', 'Swaziland'),\n",
       " ('SE', 'Sweden'),\n",
       " ('CH', 'Switzerland'),\n",
       " ('SY', 'Syria'),\n",
       " ('TW', 'Taiwan'),\n",
       " ('TJ', 'Tajikistan'),\n",
       " ('TZ', 'Tanzania'),\n",
       " ('TH', 'Thailand'),\n",
       " ('TG', 'Togo'),\n",
       " ('TK', 'Tokelau'),\n",
       " ('TO', 'Tonga'),\n",
       " ('TT', 'Trinidad & Tobago'),\n",
       " ('TN', 'Tunisia'),\n",
       " ('TR', 'Turkey'),\n",
       " ('TM', 'Turkmenistan'),\n",
       " ('TC', 'Turks & Caicos Islands'),\n",
       " ('TV', 'Tuvalu'),\n",
       " ('UG', 'Uganda'),\n",
       " ('UA', 'Ukraine'),\n",
       " ('AE', 'United Arab Emirates'),\n",
       " ('GB', 'United Kingdom'),\n",
       " ('US', 'United States'),\n",
       " ('VI', 'United States Virgin Islands'),\n",
       " ('UY', 'Uruguay'),\n",
       " ('UZ', 'Uzbekistan'),\n",
       " ('VU', 'Vanuatu'),\n",
       " ('VE', 'Venezuela'),\n",
       " ('VN', 'Vietnam'),\n",
       " ('WF', 'Wallis & Futuna'),\n",
       " ('EH', 'Western Sahara'),\n",
       " ('YE', 'Yemen'),\n",
       " ('ZM', 'Zambia'),\n",
       " ('ZW', 'Zimbabwe')]"
      ]
     },
     "execution_count": 36,
     "metadata": {},
     "output_type": "execute_result"
    }
   ],
   "source": [
    "country"
   ]
  },
  {
   "cell_type": "code",
   "execution_count": 41,
   "metadata": {
    "collapsed": false
   },
   "outputs": [],
   "source": [
    "import csv\n",
    "fp= open('countrycodes.csv', 'r')\n",
    "reader=csv.DictReader(fp)\n",
    "lists =list(reader)\n",
    "output=[]\n",
    "for item in lists:\n",
    "    if item['iso2']!='' and item['iso3']!='':\n",
    "        output.append((item['iso2'],item['iso3'], item['country']))\n",
    "        "
   ]
  },
  {
   "cell_type": "code",
   "execution_count": 42,
   "metadata": {
    "collapsed": false
   },
   "outputs": [
    {
     "data": {
      "text/plain": [
       "[('AF', 'AFG', 'Afganistan'),\n",
       " ('AX', 'ALA', 'Ã…land Islands'),\n",
       " ('AL', 'ALB', 'Albania'),\n",
       " ('DZ', 'DZA', 'Algeria'),\n",
       " ('AS', 'ASM', 'American Samoa'),\n",
       " ('AD', 'AND', 'Andorra'),\n",
       " ('AO', 'AGO', 'Angola'),\n",
       " ('AI', 'AIA', 'Anguilla'),\n",
       " ('AG', 'ATG', 'Antigua & Barbuda'),\n",
       " ('AR', 'ARG', 'Argentina'),\n",
       " ('AM', 'ARM', 'Armenia'),\n",
       " ('AW', 'ABW', 'Aruba'),\n",
       " ('AU', 'AUS', 'Australia'),\n",
       " ('AT', 'AUT', 'Austria'),\n",
       " ('AZ', 'AZE', 'Azerbaijan'),\n",
       " ('BS', 'BHS', 'Bahamas'),\n",
       " ('BH', 'BHR', 'Bahrain'),\n",
       " ('BD', 'BGD', 'Bangladesh'),\n",
       " ('BB', 'BRB', 'Barbados'),\n",
       " ('BY', 'BLR', 'Belarus'),\n",
       " ('BE', 'BEL', 'Belgium'),\n",
       " ('BZ', 'BLZ', 'Belize'),\n",
       " ('BJ', 'BEN', 'Benin'),\n",
       " ('BM', 'BMU', 'Bermuda'),\n",
       " ('BT', 'BTN', 'Bhutan'),\n",
       " ('BO', 'BOL', 'Bolivia'),\n",
       " ('BQ', 'BES', 'Bonaire'),\n",
       " ('BA', 'BIH', 'Bosnia-Herzegovina'),\n",
       " ('BW', 'BWA', 'Botswana'),\n",
       " ('BR', 'BRA', 'Brazil'),\n",
       " ('IO', 'IOT', 'British Indian Ocean Territory'),\n",
       " ('VG', 'VGB', 'British Virgin Islands'),\n",
       " ('BN', 'BRN', 'Brunei Darussalam'),\n",
       " ('BG', 'BGR', 'Bulgaria'),\n",
       " ('BF', 'BFA', 'Burkina Faso'),\n",
       " ('BI', 'BDI', 'Burundi'),\n",
       " ('KH', 'KHM', 'Cambodia'),\n",
       " ('CM', 'CMR', 'Cameroon'),\n",
       " ('CA', 'CAN', 'Canada'),\n",
       " ('CV', 'CPV', 'Cape Verde Islands'),\n",
       " ('KY', 'CYM', 'Cayman Islands'),\n",
       " ('CF', 'CAF', 'Central African Republic'),\n",
       " ('TD', 'TCD', 'Chad'),\n",
       " ('CL', 'CHL', 'Chile'),\n",
       " ('CN', 'CHN', 'China'),\n",
       " ('CX', 'CXR', 'Christmas Island'),\n",
       " ('CC', 'CCK', 'Cocos (Keeling) Islands'),\n",
       " ('CO', 'COL', 'Colombia'),\n",
       " ('KM', 'COM', 'Comoros'),\n",
       " ('CG', 'COG', 'Congo (Brazzaville)'),\n",
       " ('CD', 'ZAR', 'Congo (Kinshasa)'),\n",
       " ('CK', 'COK', 'Cook Islands'),\n",
       " ('CR', 'CRI', 'Costa Rica'),\n",
       " ('HR', 'HRV', 'Croatia'),\n",
       " ('CU', 'CUB', 'Cuba'),\n",
       " ('CW', 'CUW', 'CuraÃ§ao'),\n",
       " ('CY', 'CYP', 'Cyprus'),\n",
       " ('CZ', 'CZE', 'Czech Republic'),\n",
       " ('DK', 'DNK', 'Denmark'),\n",
       " ('DJ', 'DJI', 'Djibouti'),\n",
       " ('DM', 'DMA', 'Dominica'),\n",
       " ('DO', 'DOM', 'Dominican Republic'),\n",
       " ('TL', 'TLS', 'East Timor'),\n",
       " ('EC', 'ECU', 'Ecuador'),\n",
       " ('EG', 'EGY', 'Egypt'),\n",
       " ('SV', 'SLV', 'El Salvador'),\n",
       " ('GQ', 'GNQ', 'Equatorial Guinea'),\n",
       " ('ER', 'ERI', 'Eritrea'),\n",
       " ('EE', 'EST', 'Estonia'),\n",
       " ('ET', 'ETH', 'Ethiopia'),\n",
       " ('FO', 'FRO', 'Faeroe Islands'),\n",
       " ('FK', 'FLK', 'Falkland Islands'),\n",
       " ('FJ', 'FJI', 'Fiji'),\n",
       " ('FI', 'FIN', 'Finland'),\n",
       " ('FR', 'FRA', 'France'),\n",
       " ('GF', 'GUF', 'French Guiana'),\n",
       " ('PF', 'PYF', 'French Polynesia'),\n",
       " ('TF', 'ATF', 'French Southern Territories'),\n",
       " ('GA', 'GAB', 'Gabon'),\n",
       " ('GM', 'GMB', 'Gambia'),\n",
       " ('GE', 'GEO', 'Georgia'),\n",
       " ('DE', 'DEU', 'Germany'),\n",
       " ('GH', 'GHA', 'Ghana'),\n",
       " ('GI', 'GIB', 'Gibralter'),\n",
       " ('GR', 'GRC', 'Greece'),\n",
       " ('GL', 'GRL', 'Greenland'),\n",
       " ('GD', 'GRD', 'Grenada'),\n",
       " ('GP', 'GLP', 'Guadeloupe'),\n",
       " ('GU', 'GUM', 'Guam'),\n",
       " ('GT', 'GTM', 'Guatemala'),\n",
       " ('GG', 'GGY', 'Guernsey'),\n",
       " ('GN', 'GIN', 'Guinea'),\n",
       " ('GW', 'GNB', 'Guinea-Bissau'),\n",
       " ('GY', 'GUY', 'Guyana'),\n",
       " ('HT', 'HTI', 'Haiti'),\n",
       " ('VA', 'VAT', 'Holy See'),\n",
       " ('HN', 'HND', 'Honduras'),\n",
       " ('HK', 'HKG', 'Hong Kong'),\n",
       " ('HU', 'HUN', 'Hungary'),\n",
       " ('IS', 'ISL', 'Iceland'),\n",
       " ('IN', 'IND', 'India'),\n",
       " ('ID', 'IDN', 'Indonesia'),\n",
       " ('IR', 'IRN', 'Iran'),\n",
       " ('IQ', 'IRQ', 'Iraq'),\n",
       " ('IE', 'IRL', 'Ireland'),\n",
       " ('IM', 'IMN', 'Isle of Man'),\n",
       " ('IL', 'ISR', 'Israel'),\n",
       " ('IT', 'ITA', 'Italy'),\n",
       " ('CI', 'CIV', 'Ivory Coast'),\n",
       " ('JM', 'JAM', 'Jamaica'),\n",
       " ('JP', 'JPN', 'Japan'),\n",
       " ('JE', 'JEY', 'Jersey'),\n",
       " ('JO', 'JOR', 'Jordan'),\n",
       " ('KZ', 'KAZ', 'Kazakhstan'),\n",
       " ('KE', 'KEN', 'Kenya'),\n",
       " ('KI', 'KIR', 'Kiribati'),\n",
       " ('KW', 'KWT', 'Kuwait'),\n",
       " ('KG', 'KGZ', 'Kyrgyzstan'),\n",
       " ('LA', 'LAO', 'Laos'),\n",
       " ('LV', 'LVA', 'Latvia'),\n",
       " ('LB', 'LBN', 'Lebanon'),\n",
       " ('LS', 'LSO', 'Lesotho'),\n",
       " ('LR', 'LBR', 'Liberia'),\n",
       " ('LY', 'LBY', 'Libya'),\n",
       " ('LI', 'LIE', 'Liechtenstein'),\n",
       " ('LT', 'LTU', 'Lithuania'),\n",
       " ('LU', 'LUX', 'Luxembourg'),\n",
       " ('MO', 'MAC', 'Macau'),\n",
       " ('MK', 'MKD', 'Macedonia'),\n",
       " ('MG', 'MDG', 'Madagascar'),\n",
       " ('MW', 'MWI', 'Malawi'),\n",
       " ('MY', 'MYS', 'Malaysia'),\n",
       " ('MV', 'MDV', 'Maldives'),\n",
       " ('ML', 'MLI', 'Mali'),\n",
       " ('MT', 'MLT', 'Malta'),\n",
       " ('MH', 'MHL', 'Marshall Islands'),\n",
       " ('MQ', 'MTQ', 'Martinique'),\n",
       " ('MR', 'MRT', 'Mauritania'),\n",
       " ('MU', 'MUS', 'Mauritius'),\n",
       " ('YT', 'MYT', 'Mayotte'),\n",
       " ('MX', 'MEX', 'Mexico'),\n",
       " ('FM', 'FSM', 'Micronesia'),\n",
       " ('MD', 'MDA', 'Moldova'),\n",
       " ('MC', 'MCO', 'Monaco'),\n",
       " ('MN', 'MNG', 'Mongolia'),\n",
       " ('ME', 'MNE', 'Montenegro'),\n",
       " ('MS', 'MSR', 'Montserrat'),\n",
       " ('MA', 'MAR', 'Morocco'),\n",
       " ('MZ', 'MOZ', 'Mozambique'),\n",
       " ('MM', 'MMR', 'Myanmar'),\n",
       " ('NA', 'NAM', 'Namibia'),\n",
       " ('NR', 'NRU', 'Nauru'),\n",
       " ('NP', 'NPL', 'Nepal'),\n",
       " ('AN', 'ANT', 'Netherlands Antilles'),\n",
       " ('NL', 'NLD', 'Netherlands'),\n",
       " ('NC', 'NCL', 'New Caledonia'),\n",
       " ('NZ', 'NZL', 'New Zealand'),\n",
       " ('NI', 'NIC', 'Nicaragua'),\n",
       " ('NE', 'NER', 'Niger'),\n",
       " ('NG', 'NGA', 'Nigeria'),\n",
       " ('NU', 'NIU', 'Niue'),\n",
       " ('NF', 'NFK', 'Norfolk Island'),\n",
       " ('KP', 'PRK', 'North Korea'),\n",
       " ('MP', 'MNP', 'Northern Mariana Islands'),\n",
       " ('NO', 'NOR', 'Norway'),\n",
       " ('OM', 'OMN', 'Oman'),\n",
       " ('PK', 'PAK', 'Pakistan'),\n",
       " ('PW', 'PLW', 'Palau'),\n",
       " ('PS', 'PSE', 'Palestinian Territories'),\n",
       " ('PA', 'PAN', 'Panama'),\n",
       " ('PG', 'PNG', 'Papua New Guinea'),\n",
       " ('PY', 'PRY', 'Paraguay'),\n",
       " ('PE', 'PER', 'Peru'),\n",
       " ('PH', 'PHL', 'Philippines'),\n",
       " ('PN', 'PCN', 'Pitcairn Islands'),\n",
       " ('PL', 'POL', 'Poland'),\n",
       " ('PT', 'PRT', 'Portugal'),\n",
       " ('PR', 'PRI', 'Puerto Rico'),\n",
       " ('QA', 'QAT', 'Qatar'),\n",
       " ('RO', 'ROU', 'Romania'),\n",
       " ('RU', 'RUS', 'Russia'),\n",
       " ('RW', 'RWA', 'Rwanda'),\n",
       " ('RE', 'REU', 'RÃ©union'),\n",
       " ('BQ', 'BES', 'Saba'),\n",
       " ('BL', 'BLM', 'Saint BarthÃ©lemy'),\n",
       " ('KN', 'KNA', 'Saint Christopher & Nevis'),\n",
       " ('SH', 'SHN', 'Saint Helena'),\n",
       " ('LC', 'LCA', 'Saint Lucia'),\n",
       " ('MF', 'MAF', 'Saint Martin'),\n",
       " ('PM', 'SPM', 'Saint Pierre & Miquelon'),\n",
       " ('VC', 'VCT', 'Saint Vincent & The Grenadines'),\n",
       " ('WS', 'WSM', 'Samoa'),\n",
       " ('SM', 'SMR', 'San Marino'),\n",
       " ('ST', 'STP', 'Sao Tome & Principe'),\n",
       " ('SA', 'SAU', 'Saudi Arabia'),\n",
       " ('SN', 'SEN', 'Senegal'),\n",
       " ('RS', 'SRB', 'Serbia'),\n",
       " ('SC', 'SYC', 'Seychelles'),\n",
       " ('SL', 'SLE', 'Sierra Leone'),\n",
       " ('SG', 'SGP', 'Singapore'),\n",
       " ('BQ', 'BES', 'Sint Eustatius'),\n",
       " ('SX', 'SXM', 'Sint Maarten'),\n",
       " ('SK', 'SVK', 'Slovakia'),\n",
       " ('SI', 'SVN', 'Slovenia'),\n",
       " ('SB', 'SLB', 'Solomon Islands'),\n",
       " ('SO', 'SOM', 'Somalia'),\n",
       " ('SO', 'SOM', 'Somaliland'),\n",
       " ('ZA', 'ZAF', 'South Africa'),\n",
       " ('GS', 'SGS', 'South Georgia & The South Sandwish Islands'),\n",
       " ('KR', 'KOR', 'South Korea'),\n",
       " ('SS', 'SSD', 'South Sudan'),\n",
       " ('ES', 'ESP', 'Spain'),\n",
       " ('LK', 'LKA', 'Sri Lanka'),\n",
       " ('SD', 'SDN', 'Sudan'),\n",
       " ('SR', 'SUR', 'Suriname'),\n",
       " ('SZ', 'SWZ', 'Swaziland'),\n",
       " ('SE', 'SWE', 'Sweden'),\n",
       " ('CH', 'CHE', 'Switzerland'),\n",
       " ('SY', 'SYR', 'Syria'),\n",
       " ('TW', 'TWN', 'Taiwan'),\n",
       " ('TJ', 'TJK', 'Tajikistan'),\n",
       " ('TZ', 'TZA', 'Tanzania'),\n",
       " ('TH', 'THA', 'Thailand'),\n",
       " ('TG', 'TGO', 'Togo'),\n",
       " ('TK', 'TKL', 'Tokelau'),\n",
       " ('TO', 'TON', 'Tonga'),\n",
       " ('TT', 'TTO', 'Trinidad & Tobago'),\n",
       " ('TN', 'TUN', 'Tunisia'),\n",
       " ('TR', 'TUR', 'Turkey'),\n",
       " ('TM', 'TKM', 'Turkmenistan'),\n",
       " ('TC', 'TCA', 'Turks & Caicos Islands'),\n",
       " ('TV', 'TUV', 'Tuvalu'),\n",
       " ('UG', 'UGA', 'Uganda'),\n",
       " ('UA', 'UKR', 'Ukraine'),\n",
       " ('AE', 'ARE', 'United Arab Emirates'),\n",
       " ('GB', 'GBR', 'United Kingdom'),\n",
       " ('US', 'USA', 'United States'),\n",
       " ('VI', 'VIR', 'United States Virgin Islands'),\n",
       " ('UY', 'URY', 'Uruguay'),\n",
       " ('UZ', 'UZB', 'Uzbekistan'),\n",
       " ('VU', 'VUT', 'Vanuatu'),\n",
       " ('VE', 'VEN', 'Venezuela'),\n",
       " ('VN', 'VNM', 'Vietnam'),\n",
       " ('WF', 'WLF', 'Wallis & Futuna'),\n",
       " ('EH', 'ESH', 'Western Sahara'),\n",
       " ('YE', 'YEM', 'Yemen'),\n",
       " ('ZM', 'ZMB', 'Zambia'),\n",
       " ('ZW', 'ZWE', 'Zimbabwe')]"
      ]
     },
     "execution_count": 42,
     "metadata": {},
     "output_type": "execute_result"
    }
   ],
   "source": [
    "output"
   ]
  },
  {
   "cell_type": "code",
   "execution_count": 43,
   "metadata": {
    "collapsed": true
   },
   "outputs": [],
   "source": [
    "fp.close()"
   ]
  },
  {
   "cell_type": "code",
   "execution_count": 48,
   "metadata": {
    "collapsed": false
   },
   "outputs": [],
   "source": [
    "with open('newfile.csv', 'w') as csvfile:\n",
    "    fieldnames =['Firstname', 'Lastname', 'Age']\n",
    "    csvwriter= csv.DictWriter(csvfile, fieldnames=fieldnames)\n",
    "    csvwriter.writeheader()\n",
    "    csvwriter.writerow({'Firstname': 'j', 'Lastname':'k', 'Age':20})\n",
    "    csvwriter.writerow({'Lastname':'d', 'Firstname':'jd','Age':22})\n",
    "    csvwriter.writerows([\n",
    "            {'Firstname': 'hd', 'Lastname':'kdh', 'Age':29},\n",
    "            {'Firstname': 'jdgshhd', 'Lastname':'kdd', 'Age':20}\n",
    "        ])"
   ]
  },
  {
   "cell_type": "markdown",
   "metadata": {},
   "source": [
    "class and object"
   ]
  },
  {
   "cell_type": "code",
   "execution_count": 50,
   "metadata": {
    "collapsed": true
   },
   "outputs": [],
   "source": [
    "class animal:\n",
    "    age = None"
   ]
  },
  {
   "cell_type": "code",
   "execution_count": 51,
   "metadata": {
    "collapsed": true
   },
   "outputs": [],
   "source": [
    "class Dog(animal):\n",
    "    pass"
   ]
  },
  {
   "cell_type": "code",
   "execution_count": 53,
   "metadata": {
    "collapsed": true
   },
   "outputs": [],
   "source": [
    "german_shepherd = Dog()"
   ]
  },
  {
   "cell_type": "code",
   "execution_count": 54,
   "metadata": {
    "collapsed": false
   },
   "outputs": [
    {
     "data": {
      "text/plain": [
       "<__main__.Dog at 0x950fddfb38>"
      ]
     },
     "execution_count": 54,
     "metadata": {},
     "output_type": "execute_result"
    }
   ],
   "source": [
    "german_shepherd"
   ]
  },
  {
   "cell_type": "code",
   "execution_count": 55,
   "metadata": {
    "collapsed": true
   },
   "outputs": [],
   "source": [
    "german_shepherd = Dog()"
   ]
  },
  {
   "cell_type": "code",
   "execution_count": 56,
   "metadata": {
    "collapsed": false
   },
   "outputs": [
    {
     "data": {
      "text/plain": [
       "<__main__.Dog at 0x950fddfcc0>"
      ]
     },
     "execution_count": 56,
     "metadata": {},
     "output_type": "execute_result"
    }
   ],
   "source": [
    "german_shepherd"
   ]
  },
  {
   "cell_type": "code",
   "execution_count": 57,
   "metadata": {
    "collapsed": true
   },
   "outputs": [],
   "source": [
    "german_shepherd.age= 22"
   ]
  },
  {
   "cell_type": "code",
   "execution_count": 59,
   "metadata": {
    "collapsed": false
   },
   "outputs": [
    {
     "data": {
      "text/plain": [
       "22"
      ]
     },
     "execution_count": 59,
     "metadata": {},
     "output_type": "execute_result"
    }
   ],
   "source": [
    "german_shepherd.age"
   ]
  },
  {
   "cell_type": "code",
   "execution_count": 60,
   "metadata": {
    "collapsed": true
   },
   "outputs": [],
   "source": [
    "class Dog(animal):\n",
    "    age = 18"
   ]
  },
  {
   "cell_type": "code",
   "execution_count": 62,
   "metadata": {
    "collapsed": false
   },
   "outputs": [],
   "source": [
    "german_shepherd= Dog()"
   ]
  },
  {
   "cell_type": "code",
   "execution_count": 63,
   "metadata": {
    "collapsed": false
   },
   "outputs": [
    {
     "data": {
      "text/plain": [
       "18"
      ]
     },
     "execution_count": 63,
     "metadata": {},
     "output_type": "execute_result"
    }
   ],
   "source": [
    "german_shepherd.age"
   ]
  },
  {
   "cell_type": "code",
   "execution_count": 71,
   "metadata": {
    "collapsed": false
   },
   "outputs": [],
   "source": [
    "class animal:\n",
    "    age =None\n",
    "    def is_alive(self):\n",
    "        return True\n",
    "    def sound(self):\n",
    "        return 'Cry'"
   ]
  },
  {
   "cell_type": "code",
   "execution_count": 72,
   "metadata": {
    "collapsed": false
   },
   "outputs": [],
   "source": [
    "class Cat(animal):\n",
    "    def sound(self):\n",
    "        return 'Meow'"
   ]
  },
  {
   "cell_type": "code",
   "execution_count": 67,
   "metadata": {
    "collapsed": true
   },
   "outputs": [],
   "source": [
    "cat= Cat()"
   ]
  },
  {
   "cell_type": "code",
   "execution_count": 68,
   "metadata": {
    "collapsed": false
   },
   "outputs": [
    {
     "data": {
      "text/plain": [
       "True"
      ]
     },
     "execution_count": 68,
     "metadata": {},
     "output_type": "execute_result"
    }
   ],
   "source": [
    "cat.is_alive()"
   ]
  },
  {
   "cell_type": "markdown",
   "metadata": {
    "collapsed": true
   },
   "source": [
    "case study: library management"
   ]
  },
  {
   "cell_type": "code",
   "execution_count": 177,
   "metadata": {
    "collapsed": true
   },
   "outputs": [],
   "source": [
    "class Patron:\n",
    "    firstname = None\n",
    "    lastname = None\n",
    "    address = None\n",
    "    books = []\n",
    "    def __repr__(self):\n",
    "        return '{} {}'. format(self.firstname, self.lastname)\n",
    "    \n",
    "    def has_book(self, bookid):\n",
    "        return bookid in self.books"
   ]
  },
  {
   "cell_type": "code",
   "execution_count": 178,
   "metadata": {
    "collapsed": true
   },
   "outputs": [],
   "source": [
    "class Student(Patron):\n",
    "    faculty = None\n",
    "    year =None\n",
    "    def __init__(self, firstname, lastname, faculty, year):\n",
    "        self.firstname= firstname\n",
    "        self.lastname= lastname\n",
    "        self.faculty= faculty\n",
    "        self.year= year"
   ]
  },
  {
   "cell_type": "code",
   "execution_count": 179,
   "metadata": {
    "collapsed": true
   },
   "outputs": [],
   "source": [
    "class Staff(Patron):\n",
    "    Department =None\n",
    "    def __init__(self, firstname, lastname, Department):\n",
    "        self.firstname=firstname\n",
    "        self.lastname=lastname\n",
    "        self.Department=Department\n",
    "    def __repr__(self):\n",
    "        return '{} {} {}'. format(self.firstname, self.lastname,self.Department)"
   ]
  },
  {
   "cell_type": "code",
   "execution_count": 180,
   "metadata": {
    "collapsed": false
   },
   "outputs": [],
   "source": [
    "class Book:\n",
    "    bookid= None\n",
    "    isbn =None\n",
    "    name = None\n",
    "    def __init__(self, isbn, name):\n",
    "        self.isbn= isbn\n",
    "        self.name= name\n",
    "        self.bookid= 'MYLIB' + ':'+ self.isbn\n",
    "    \n",
    "    def __repr__(self):\n",
    "        return \"Book id: \" + self.bookid\n",
    "        \n",
    "   \n",
    "\n",
    "    "
   ]
  },
  {
   "cell_type": "code",
   "execution_count": 133,
   "metadata": {
    "collapsed": true
   },
   "outputs": [],
   "source": [
    "class Teacher:\n",
    "    Faculty= None"
   ]
  },
  {
   "cell_type": "code",
   "execution_count": 157,
   "metadata": {
    "collapsed": false
   },
   "outputs": [],
   "source": [
    "english=Book(isbn='abc-6457474', name='Learning english in 32 days.')"
   ]
  },
  {
   "cell_type": "code",
   "execution_count": 158,
   "metadata": {
    "collapsed": false
   },
   "outputs": [
    {
     "data": {
      "text/plain": [
       "Book id: MYLIB:abc-6457474"
      ]
     },
     "execution_count": 158,
     "metadata": {},
     "output_type": "execute_result"
    }
   ],
   "source": [
    "english"
   ]
  },
  {
   "cell_type": "code",
   "execution_count": 136,
   "metadata": {
    "collapsed": true
   },
   "outputs": [],
   "source": [
    "Nepali=Book(isbn='np-64574574', name='Learning nepali')"
   ]
  },
  {
   "cell_type": "code",
   "execution_count": 137,
   "metadata": {
    "collapsed": true
   },
   "outputs": [],
   "source": [
    "Math=Book(isbn='mth-643457474', name='Learning math.')"
   ]
  },
  {
   "cell_type": "code",
   "execution_count": 138,
   "metadata": {
    "collapsed": true
   },
   "outputs": [],
   "source": [
    "class shelve:\n",
    "    books =[]\n",
    "    lended_books =[]\n",
    "    def is_book_available(self, bookid):\n",
    "        return bookid in self.books\n",
    "    def is_book_lendable(self, bookid):\n",
    "        return bookid not in self.lended_books\n",
    "        "
   ]
  },
  {
   "cell_type": "code",
   "execution_count": 139,
   "metadata": {
    "collapsed": true
   },
   "outputs": [],
   "source": [
    "my_library=shelve()"
   ]
  },
  {
   "cell_type": "code",
   "execution_count": 140,
   "metadata": {
    "collapsed": true
   },
   "outputs": [],
   "source": [
    "my_library.books=[ 'English', 'Nepali', 'Math']"
   ]
  },
  {
   "cell_type": "code",
   "execution_count": 141,
   "metadata": {
    "collapsed": false
   },
   "outputs": [
    {
     "data": {
      "text/plain": [
       "['English', 'Nepali', 'Math']"
      ]
     },
     "execution_count": 141,
     "metadata": {},
     "output_type": "execute_result"
    }
   ],
   "source": [
    "my_library.books"
   ]
  },
  {
   "cell_type": "code",
   "execution_count": 142,
   "metadata": {
    "collapsed": false
   },
   "outputs": [
    {
     "data": {
      "text/plain": [
       "True"
      ]
     },
     "execution_count": 142,
     "metadata": {},
     "output_type": "execute_result"
    }
   ],
   "source": [
    "my_library.is_book_available('English')"
   ]
  },
  {
   "cell_type": "code",
   "execution_count": 143,
   "metadata": {
    "collapsed": false
   },
   "outputs": [
    {
     "data": {
      "text/plain": [
       "False"
      ]
     },
     "execution_count": 143,
     "metadata": {},
     "output_type": "execute_result"
    }
   ],
   "source": [
    "shelve.is_book_available(my_library,'abc-123')"
   ]
  },
  {
   "cell_type": "code",
   "execution_count": 144,
   "metadata": {
    "collapsed": false
   },
   "outputs": [
    {
     "data": {
      "text/plain": [
       "['English', 'Nepali', 'Math']"
      ]
     },
     "execution_count": 144,
     "metadata": {},
     "output_type": "execute_result"
    }
   ],
   "source": [
    "my_library.books"
   ]
  },
  {
   "cell_type": "code",
   "execution_count": 181,
   "metadata": {
    "collapsed": true
   },
   "outputs": [],
   "source": [
    "ram = Student(\"ram\", \"stha\",\"science\",2)"
   ]
  },
  {
   "cell_type": "code",
   "execution_count": 182,
   "metadata": {
    "collapsed": false
   },
   "outputs": [
    {
     "data": {
      "text/plain": [
       "ram stha"
      ]
     },
     "execution_count": 182,
     "metadata": {},
     "output_type": "execute_result"
    }
   ],
   "source": [
    "ram"
   ]
  },
  {
   "cell_type": "code",
   "execution_count": 183,
   "metadata": {
    "collapsed": true
   },
   "outputs": [],
   "source": [
    "hari=Staff(\"hari\", \"sharma\",\"Librarian\")"
   ]
  },
  {
   "cell_type": "code",
   "execution_count": 184,
   "metadata": {
    "collapsed": false
   },
   "outputs": [
    {
     "data": {
      "text/plain": [
       "hari sharma Librarian"
      ]
     },
     "execution_count": 184,
     "metadata": {},
     "output_type": "execute_result"
    }
   ],
   "source": [
    "hari"
   ]
  },
  {
   "cell_type": "code",
   "execution_count": null,
   "metadata": {
    "collapsed": true
   },
   "outputs": [],
   "source": []
  },
  {
   "cell_type": "code",
   "execution_count": null,
   "metadata": {
    "collapsed": true
   },
   "outputs": [],
   "source": []
  },
  {
   "cell_type": "code",
   "execution_count": null,
   "metadata": {
    "collapsed": true
   },
   "outputs": [],
   "source": []
  },
  {
   "cell_type": "code",
   "execution_count": null,
   "metadata": {
    "collapsed": true
   },
   "outputs": [],
   "source": []
  },
  {
   "cell_type": "code",
   "execution_count": null,
   "metadata": {
    "collapsed": true
   },
   "outputs": [],
   "source": []
  },
  {
   "cell_type": "code",
   "execution_count": null,
   "metadata": {
    "collapsed": true
   },
   "outputs": [],
   "source": []
  },
  {
   "cell_type": "code",
   "execution_count": null,
   "metadata": {
    "collapsed": true
   },
   "outputs": [],
   "source": []
  },
  {
   "cell_type": "code",
   "execution_count": null,
   "metadata": {
    "collapsed": true
   },
   "outputs": [],
   "source": []
  },
  {
   "cell_type": "code",
   "execution_count": null,
   "metadata": {
    "collapsed": true
   },
   "outputs": [],
   "source": []
  },
  {
   "cell_type": "code",
   "execution_count": null,
   "metadata": {
    "collapsed": true
   },
   "outputs": [],
   "source": []
  },
  {
   "cell_type": "code",
   "execution_count": null,
   "metadata": {
    "collapsed": true
   },
   "outputs": [],
   "source": []
  },
  {
   "cell_type": "code",
   "execution_count": null,
   "metadata": {
    "collapsed": true
   },
   "outputs": [],
   "source": []
  },
  {
   "cell_type": "code",
   "execution_count": null,
   "metadata": {
    "collapsed": true
   },
   "outputs": [],
   "source": []
  },
  {
   "cell_type": "code",
   "execution_count": null,
   "metadata": {
    "collapsed": true
   },
   "outputs": [],
   "source": []
  },
  {
   "cell_type": "code",
   "execution_count": null,
   "metadata": {
    "collapsed": true
   },
   "outputs": [],
   "source": []
  },
  {
   "cell_type": "code",
   "execution_count": null,
   "metadata": {
    "collapsed": true
   },
   "outputs": [],
   "source": []
  },
  {
   "cell_type": "code",
   "execution_count": null,
   "metadata": {
    "collapsed": true
   },
   "outputs": [],
   "source": []
  },
  {
   "cell_type": "code",
   "execution_count": null,
   "metadata": {
    "collapsed": true
   },
   "outputs": [],
   "source": []
  },
  {
   "cell_type": "code",
   "execution_count": null,
   "metadata": {
    "collapsed": true
   },
   "outputs": [],
   "source": []
  },
  {
   "cell_type": "code",
   "execution_count": null,
   "metadata": {
    "collapsed": true
   },
   "outputs": [],
   "source": []
  },
  {
   "cell_type": "code",
   "execution_count": null,
   "metadata": {
    "collapsed": true
   },
   "outputs": [],
   "source": []
  },
  {
   "cell_type": "code",
   "execution_count": null,
   "metadata": {
    "collapsed": true
   },
   "outputs": [],
   "source": []
  },
  {
   "cell_type": "code",
   "execution_count": null,
   "metadata": {
    "collapsed": true
   },
   "outputs": [],
   "source": []
  },
  {
   "cell_type": "code",
   "execution_count": null,
   "metadata": {
    "collapsed": true
   },
   "outputs": [],
   "source": []
  },
  {
   "cell_type": "code",
   "execution_count": null,
   "metadata": {
    "collapsed": true
   },
   "outputs": [],
   "source": []
  },
  {
   "cell_type": "code",
   "execution_count": null,
   "metadata": {
    "collapsed": true
   },
   "outputs": [],
   "source": []
  },
  {
   "cell_type": "code",
   "execution_count": null,
   "metadata": {
    "collapsed": true
   },
   "outputs": [],
   "source": []
  },
  {
   "cell_type": "code",
   "execution_count": null,
   "metadata": {
    "collapsed": true
   },
   "outputs": [],
   "source": []
  },
  {
   "cell_type": "code",
   "execution_count": null,
   "metadata": {
    "collapsed": true
   },
   "outputs": [],
   "source": []
  },
  {
   "cell_type": "code",
   "execution_count": null,
   "metadata": {
    "collapsed": true
   },
   "outputs": [],
   "source": []
  },
  {
   "cell_type": "code",
   "execution_count": null,
   "metadata": {
    "collapsed": true
   },
   "outputs": [],
   "source": []
  },
  {
   "cell_type": "code",
   "execution_count": null,
   "metadata": {
    "collapsed": true
   },
   "outputs": [],
   "source": []
  },
  {
   "cell_type": "code",
   "execution_count": null,
   "metadata": {
    "collapsed": true
   },
   "outputs": [],
   "source": []
  },
  {
   "cell_type": "code",
   "execution_count": null,
   "metadata": {
    "collapsed": true
   },
   "outputs": [],
   "source": []
  },
  {
   "cell_type": "code",
   "execution_count": null,
   "metadata": {
    "collapsed": true
   },
   "outputs": [],
   "source": []
  },
  {
   "cell_type": "code",
   "execution_count": null,
   "metadata": {
    "collapsed": true
   },
   "outputs": [],
   "source": []
  },
  {
   "cell_type": "code",
   "execution_count": null,
   "metadata": {
    "collapsed": true
   },
   "outputs": [],
   "source": []
  },
  {
   "cell_type": "code",
   "execution_count": null,
   "metadata": {
    "collapsed": true
   },
   "outputs": [],
   "source": []
  },
  {
   "cell_type": "code",
   "execution_count": null,
   "metadata": {
    "collapsed": true
   },
   "outputs": [],
   "source": []
  },
  {
   "cell_type": "code",
   "execution_count": null,
   "metadata": {
    "collapsed": true
   },
   "outputs": [],
   "source": []
  }
 ],
 "metadata": {
  "kernelspec": {
   "display_name": "Python 3",
   "language": "python",
   "name": "python3"
  },
  "language_info": {
   "codemirror_mode": {
    "name": "ipython",
    "version": 3
   },
   "file_extension": ".py",
   "mimetype": "text/x-python",
   "name": "python",
   "nbconvert_exporter": "python",
   "pygments_lexer": "ipython3",
   "version": "3.5.1"
  }
 },
 "nbformat": 4,
 "nbformat_minor": 0
}
